{
 "cells": [
  {
   "cell_type": "markdown",
   "id": "21173661-45f5-4023-9bb9-420c0674ff81",
   "metadata": {},
   "source": [
    "# Setup system"
   ]
  },
  {
   "cell_type": "code",
   "execution_count": 1,
   "id": "6794ccd1-e192-4275-a881-1d19778eb9e9",
   "metadata": {},
   "outputs": [
    {
     "name": "stdout",
     "output_type": "stream",
     "text": [
      "Defaulting to user installation because normal site-packages is not writeable\n",
      "Requirement already satisfied: pyspark in c:\\programdata\\anaconda3\\lib\\site-packages (3.5.1)\n",
      "Requirement already satisfied: py4j==0.10.9.7 in c:\\programdata\\anaconda3\\lib\\site-packages (from pyspark) (0.10.9.7)\n",
      "Defaulting to user installation because normal site-packages is not writeable\n",
      "Requirement already satisfied: findspark in c:\\programdata\\anaconda3\\lib\\site-packages (2.0.1)\n",
      "Defaulting to user installation because normal site-packages is not writeable\n",
      "Requirement already satisfied: shapely in c:\\programdata\\anaconda3\\lib\\site-packages (2.0.4)\n",
      "Requirement already satisfied: numpy<3,>=1.14 in c:\\programdata\\anaconda3\\lib\\site-packages (from shapely) (1.26.4)\n",
      "Defaulting to user installation because normal site-packages is not writeable\n",
      "Requirement already satisfied: apache-sedona in c:\\programdata\\anaconda3\\lib\\site-packages (1.5.1)\n",
      "Requirement already satisfied: attrs in c:\\programdata\\anaconda3\\lib\\site-packages (from apache-sedona) (23.1.0)\n",
      "Requirement already satisfied: shapely>=1.7.0 in c:\\programdata\\anaconda3\\lib\\site-packages (from apache-sedona) (2.0.4)\n",
      "Requirement already satisfied: numpy<3,>=1.14 in c:\\programdata\\anaconda3\\lib\\site-packages (from shapely>=1.7.0->apache-sedona) (1.26.4)\n"
     ]
    }
   ],
   "source": [
    "# install library nesccesery\n",
    "!pip install pyspark\n",
    "!pip install findspark\n",
    "!pip install shapely\n",
    "!pip install apache-sedona"
   ]
  },
  {
   "cell_type": "code",
   "execution_count": 2,
   "id": "b4bb774f",
   "metadata": {},
   "outputs": [
    {
     "name": "stdout",
     "output_type": "stream",
     "text": [
      "3.5.1\n"
     ]
    }
   ],
   "source": [
    "# import pyspark and check the version\n",
    "import pyspark\n",
    "print(pyspark.__version__)"
   ]
  },
  {
   "cell_type": "code",
   "execution_count": 3,
   "id": "caf3e390",
   "metadata": {},
   "outputs": [
    {
     "data": {
      "text/plain": [
       "'C:\\\\spark-3.5.1-bin-hadoop3'"
      ]
     },
     "execution_count": 3,
     "metadata": {},
     "output_type": "execute_result"
    }
   ],
   "source": [
    "# import finspark and check the path\n",
    "import findspark\n",
    "findspark.init()\n",
    "findspark.find()"
   ]
  },
  {
   "cell_type": "code",
   "execution_count": 4,
   "id": "3f988fbd",
   "metadata": {},
   "outputs": [],
   "source": [
    "# import library\n",
    "from pyspark.sql import SparkSession\n",
    "from pyspark.sql.functions import col, count, year, month, countDistinct, sum, dense_rank, when, mean\n",
    "from pyspark.sql.functions import when, from_unixtime, unix_timestamp, abs, hour, expr, avg, corr, to_date, date_format\n",
    "from pyspark.ml.clustering import KMeans\n",
    "from pyspark.ml.feature import VectorAssembler\n",
    "from pyspark.sql.window import Window\n",
    "from sedona.register import SedonaRegistrator\n",
    "from sedona.utils import SedonaKryoRegistrator, KryoSerializer\n",
    "from sedona.utils.adapter import Adapter\n",
    "from sedona.core.enums import GridType\n",
    "from sedona.core.SpatialRDD import PointRDD\n",
    "from sedona.core.formatMapper.shapefileParser import ShapefileReader\n",
    "from sedona.core.spatialOperator import KNNQuery\n",
    "from sedona.core.enums import IndexType\n",
    "from shapely.geometry import Point\n",
    "from pyspark.ml.feature import Imputer\n",
    "import pandas as pd\n",
    "import matplotlib.pyplot as plt\n",
    "import seaborn as sns\n",
    "import re\n",
    "import scipy\n",
    "from scipy.stats import chi2_contingency\n",
    "from scipy.stats import chi2\n",
    "import warnings\n",
    "warnings.filterwarnings('ignore')"
   ]
  },
  {
   "cell_type": "code",
   "execution_count": 5,
   "id": "d988c75e",
   "metadata": {},
   "outputs": [],
   "source": [
    "# create spark from SparkSession\n",
    "spark = SparkSession.\\\n",
    "builder.\\\n",
    "appName('app').\\\n",
    "config(\"spark.serializer\", KryoSerializer.getName). \\\n",
    "config(\"spark.kryo.registrator\", SedonaKryoRegistrator.getName). \\\n",
    "config('spark.jars.packages',\n",
    "      'org.apache.sedona:sedona-spark-shaded-3.0_2.12:1.4.0,'\n",
    "      'org.datasyslab:geotools-wrapper:1.4.0-28.2,'\n",
    "      'org.mongodb.spark:mongo-spark-connector_2.12:3.0.1'). \\\n",
    "getOrCreate()\n"
   ]
  },
  {
   "cell_type": "code",
   "execution_count": 6,
   "id": "e920575b",
   "metadata": {},
   "outputs": [
    {
     "name": "stderr",
     "output_type": "stream",
     "text": [
      "C:\\Users\\precison 5520\\AppData\\Local\\Temp\\ipykernel_10096\\1085458390.py:2: DeprecationWarning: Call to deprecated function registerAll (Deprecated since 1.4.1, use SedonaContext.create() instead.).\n",
      "  SedonaRegistrator.registerAll(spark)\n",
      "C:\\ProgramData\\anaconda3\\Lib\\site-packages\\sedona\\register\\geo_registrator.py:45: DeprecationWarning: Call to deprecated function register (Deprecated since 1.4.1, use SedonaContext.create() instead.).\n",
      "  cls.register(spark)\n"
     ]
    },
    {
     "data": {
      "text/plain": [
       "True"
      ]
     },
     "execution_count": 6,
     "metadata": {},
     "output_type": "execute_result"
    }
   ],
   "source": [
    "# create the sql context and registrator Sedona\n",
    "sqlContext = SparkSession(spark)\n",
    "SedonaRegistrator.registerAll(spark)"
   ]
  },
  {
   "cell_type": "code",
   "execution_count": 7,
   "id": "4436dc82",
   "metadata": {},
   "outputs": [],
   "source": [
    "# create path to connect with mongodb\n",
    "uri = \"mongodb://localhost:27017\""
   ]
  },
  {
   "cell_type": "code",
   "execution_count": 8,
   "id": "aa4c9769",
   "metadata": {},
   "outputs": [],
   "source": [
    "# create path to connect with mongodb atlas\n",
    "uri_Atlas=\"mongodb+srv://PhuongTran:Thanhphhuong110@@cummaytinh1.n2y9rwk.mongodb.net/?retryWrites=true&w=majority\""
   ]
  },
  {
   "cell_type": "code",
   "execution_count": 9,
   "id": "1eb6896d",
   "metadata": {},
   "outputs": [],
   "source": [
    "# read dataset from mogodb local\n",
    "driver_df = spark.read.format(\"mongo\") \\\n",
    "    .option(\"uri\", uri) \\\n",
    "    .option(\"database\", \"ETA_Trucks\") \\\n",
    "    .option(\"collection\", \"driver_details\") \\\n",
    "    .load()\n",
    "\n",
    "truck_df = spark.read.format(\"mongo\") \\\n",
    "    .option(\"uri\", uri) \\\n",
    "    .option(\"database\", \"ETA_Trucks\") \\\n",
    "    .option(\"collection\", \"truck_details\") \\\n",
    "    .load()\n",
    "\n",
    "routes_df = spark.read.format(\"mongo\") \\\n",
    "    .option(\"uri\", uri) \\\n",
    "    .option(\"database\", \"ETA_Trucks\") \\\n",
    "    .option(\"collection\", \"route_details\") \\\n",
    "    .load()\n",
    "\n",
    "\n",
    "city_details = spark.read.format(\"mongo\") \\\n",
    "    .option(\"uri\", uri) \\\n",
    "    .option(\"database\", \"ETA_Trucks\") \\\n",
    "    .option(\"collection\", \"city_details\") \\\n",
    "    .load()\n",
    "\n",
    "truck_schedule_data = spark.read.format(\"mongo\") \\\n",
    "    .option(\"uri\", uri) \\\n",
    "    .option(\"database\", \"ETA_Trucks\") \\\n",
    "    .option(\"collection\", \"truck_schedule_data\") \\\n",
    "    .load()\n",
    "\n",
    "\n",
    "weather_data = spark.read.format(\"mongo\") \\\n",
    "    .option(\"uri\", uri) \\\n",
    "    .option(\"database\", \"ETA_Trucks\") \\\n",
    "    .option(\"collection\", \"weather_data\") \\\n",
    "    .load()\n",
    "\n",
    "traffic_data = spark.read.format(\"mongo\") \\\n",
    "    .option(\"uri\", uri) \\\n",
    "    .option(\"database\", \"ETA_Trucks\") \\\n",
    "    .option(\"collection\", \"traffic_data\") \\\n",
    "    .load()\n"
   ]
  },
  {
   "cell_type": "markdown",
   "id": "eb2c14b6-b7ad-499c-be19-c5a645a01686",
   "metadata": {},
   "source": [
    "# Chart samples"
   ]
  },
  {
   "cell_type": "code",
   "execution_count": 10,
   "id": "f9ac6c09-a48b-4537-9106-0128d7b99d64",
   "metadata": {},
   "outputs": [],
   "source": [
    "# create the chart sample\n",
    "def historam(df, column):\n",
    "    data = df.select(column).toPandas()\n",
    "    sns.histplot(data[column], kde=False, bins=20)\n",
    "    plt.xlabel(column)\n",
    "    plt.ylabel(\"Frequency\")\n",
    "    plt.title(f\"Histogram of {column}\")\n",
    "    plt.show()\n",
    "\n",
    "def boxplot(df, column):\n",
    "    data = df.select(column).toPandas()\n",
    "    sns.boxplot(data=data)\n",
    "    plt.xlabel(column)\n",
    "    plt.ylabel(\"Value\")\n",
    "    plt.title(f\"Boxplot of {column}\")\n",
    "    plt.show()\n",
    "\n",
    "def heatmap(df, column):\n",
    "    data = df.select(*column).toPandas()\n",
    "    corr = data.corr()\n",
    "    sns.heatmap(corr, annot=True, cmap=\"coolwarm\", fmt=\".2f\")\n",
    "    plt.title(\"Correlation Heatmap\")\n",
    "    plt.show()\n",
    "\n",
    "def scatter(df, x_col, y_col):\n",
    "    data = df.select(x_col, y_col).toPandas()\n",
    "    sns.scatterplot(data = data, x = x_col, y = y_col)\n",
    "    plt.xlabel(x_col)\n",
    "    plt.ylabel(y_col)\n",
    "    plt.title(f\"Scatter Plot between {x_col} and {y_col}\")\n",
    "    plt.show()"
   ]
  },
  {
   "cell_type": "markdown",
   "id": "19dbf925-afb0-4084-91b4-89002dc70677",
   "metadata": {},
   "source": [
    "## Analyze driver characteristics wiht driver_df dataset:"
   ]
  },
  {
   "cell_type": "code",
   "execution_count": 11,
   "id": "8ff41bb9",
   "metadata": {},
   "outputs": [
    {
     "name": "stdout",
     "output_type": "stream",
     "text": [
      "root\n",
      " |-- _id: struct (nullable = true)\n",
      " |    |-- oid: string (nullable = true)\n",
      " |-- age: integer (nullable = true)\n",
      " |-- driver_id: string (nullable = true)\n",
      " |-- driving_style: string (nullable = true)\n",
      " |-- experience: integer (nullable = true)\n",
      " |-- gender: string (nullable = true)\n",
      " |-- name: string (nullable = true)\n",
      " |-- ratings: double (nullable = true)\n",
      " |-- vehicle_no: string (nullable = true)\n",
      "\n"
     ]
    }
   ],
   "source": [
    "# Check the characteristics of the data\n",
    "driver_df.printSchema()"
   ]
  },
  {
   "cell_type": "code",
   "execution_count": 12,
   "id": "cfc5dd35-857b-4c76-b11e-f60aa91816fa",
   "metadata": {},
   "outputs": [
    {
     "name": "stdout",
     "output_type": "stream",
     "text": [
      "+--------------------+---+--------------------+-------------+----------+------+--------------+-------+--------------------+\n",
      "|                 _id|age|           driver_id|driving_style|experience|gender|          name|ratings|          vehicle_no|\n",
      "+--------------------+---+--------------------+-------------+----------+------+--------------+-------+--------------------+\n",
      "|{65df3f5073bdaf54...| 52|c3173876aeac46048...| conservative|        13|  male| Scott Hawkins|    2.6|2f0705c938e545a0a...|\n",
      "|{65df3f5073bdaf54...| 41|40287c65b040442f8...|    proactive|        22|  male|Tyler Saunders|    3.3|765d4022c30848c3a...|\n",
      "|{65df3f5073bdaf54...| 54|52c6e171127e475eb...|    proactive|        14|  male|  John Parsons|    2.0|3e6c63a346d14608a...|\n",
      "|{65df3f5073bdaf54...| 47|84aadb12672d4454b...| conservative|         6|  male|  James Miller|    4.3|5c80f31e59d84908a...|\n",
      "|{65df3f5073bdaf54...| 48|eafe1b74784e49f0b...| conservative|        12|  male|Gregory Walton|    4.1|0c5537386a614cbaa...|\n",
      "+--------------------+---+--------------------+-------------+----------+------+--------------+-------+--------------------+\n",
      "only showing top 5 rows\n",
      "\n"
     ]
    }
   ],
   "source": [
    "# show top 5 rows in data\n",
    "driver_df.show(5)"
   ]
  },
  {
   "cell_type": "code",
   "execution_count": 13,
   "id": "5274ae15-f8da-4ccd-baf2-69bea40d5a2a",
   "metadata": {},
   "outputs": [
    {
     "name": "stdout",
     "output_type": "stream",
     "text": [
      "+-------+-----------------+-----------------+------------------+\n",
      "|summary|              age|       experience|           ratings|\n",
      "+-------+-----------------+-----------------+------------------+\n",
      "|  count|           200000|           200000|            200000|\n",
      "|   mean|         47.49286|          10.4749|2.7057284999999904|\n",
      "| stddev|5.003249362456383|5.609362469544626|1.1415121766928296|\n",
      "|    min|               25|              -12|               1.0|\n",
      "|    max|               71|               34|               5.0|\n",
      "+-------+-----------------+-----------------+------------------+\n",
      "\n"
     ]
    }
   ],
   "source": [
    "# statistics of the describe columns have integer format\n",
    "driver_df.select(['age', 'experience', 'ratings']).describe().show()"
   ]
  },
  {
   "cell_type": "code",
   "execution_count": 14,
   "id": "bdeec61c-6f20-4d87-b286-8bb399a99ee7",
   "metadata": {},
   "outputs": [
    {
     "name": "stdout",
     "output_type": "stream",
     "text": [
      "+-----------+-----------+-----------------+---------------------+------------------+------------------+------------+---------------+------------------+\n",
      "|_id_miss(%)|age_miss(%)|driver_id_miss(%)|driving_style_miss(%)|experience_miss(%)|    gender_miss(%)|name_miss(%)|ratings_miss(%)|vehicle_no_miss(%)|\n",
      "+-----------+-----------+-----------------+---------------------+------------------+------------------+------------+---------------+------------------+\n",
      "|        0.0|        0.0|              0.0|   3.9699999999999958|               0.0|1.9445000000000046|         0.0|            0.0|               0.0|\n",
      "+-----------+-----------+-----------------+---------------------+------------------+------------------+------------+---------------+------------------+\n",
      "\n"
     ]
    }
   ],
   "source": [
    "#driver_null_missing = driver_df.isnull().sum()/driver_df.isnull().count().sort_values(descending = True).todataframes()\n",
    "driver_df_missing = driver_df.agg(*[\n",
    "    ((1-sum(col(c).isNotNull().cast(\"int\")) / count('*'))*100).alias(c + '_miss(%)')\n",
    "    for c in driver_df.columns\n",
    "])\n",
    "driver_df_missing.show()"
   ]
  },
  {
   "cell_type": "code",
   "execution_count": 15,
   "id": "56650ad3-8a9e-4ab3-a6d6-2c3ddf99cff7",
   "metadata": {},
   "outputs": [],
   "source": [
    "# Coppy driver_df to driver_df1\n",
    "driver_df1 = driver_df\n",
    "\n",
    "#replace the null value by mode\n",
    "inputCol = [\"driving_style\", \"gender\"]\n",
    "\n",
    "driver_mod = {}\n",
    "for c in inputCol:\n",
    "    mode = driver_df1.select(c).groupBy(c).count().orderBy(col(\"count\").desc()).select(c).first()[0]\n",
    "    driver_mod[c] = mode\n",
    "\n",
    "for c, mode in driver_mod.items():\n",
    "    driver_df1 = driver_df1.withColumn(c, when(col(c).isNull(), mode).otherwise(col(c)))"
   ]
  },
  {
   "cell_type": "code",
   "execution_count": 16,
   "id": "72245b09-c4a0-4690-9965-11a4d68014d5",
   "metadata": {},
   "outputs": [
    {
     "name": "stdout",
     "output_type": "stream",
     "text": [
      "Average Age of Drivers: 47.49286\n"
     ]
    },
    {
     "name": "stderr",
     "output_type": "stream",
     "text": [
      "C:\\ProgramData\\anaconda3\\Lib\\site-packages\\pyspark\\sql\\pandas\\utils.py:37: DeprecationWarning: distutils Version classes are deprecated. Use packaging.version instead.\n",
      "  if LooseVersion(pandas.__version__) < LooseVersion(minimum_pandas_version):\n",
      "C:\\ProgramData\\anaconda3\\Lib\\site-packages\\seaborn\\_oldcore.py:1498: DeprecationWarning: is_categorical_dtype is deprecated and will be removed in a future version. Use isinstance(dtype, pd.CategoricalDtype) instead\n",
      "  if pd.api.types.is_categorical_dtype(vector):\n"
     ]
    },
    {
     "data": {
      "image/png": "[encoded data removed]",
      "text/plain": [
       "<Figure size 640x480 with 1 Axes>"
      ]
     },
     "metadata": {},
     "output_type": "display_data"
    }
   ],
   "source": [
    "# Explore the distribution of age\n",
    "# Calculate the average age\n",
    "average_age = driver_df1.agg(avg(\"age\")).collect()[0][0]\n",
    "print(f\"Average Age of Drivers: {average_age}\")\n",
    "\n",
    "historam(driver_df1, \"age\")"
   ]
  },
  {
   "cell_type": "markdown",
   "id": "afd815aa-f3b6-4f68-9234-c8fc4547c042",
   "metadata": {},
   "source": [
    "### The ages of the drivers participating in the study ranged from 25 to 71 years old, with an average age of 47 years old, with most drivers being from 40 to 55 years old."
   ]
  },
  {
   "cell_type": "code",
   "execution_count": 17,
   "id": "ed41b2ae-7023-498a-b03e-3fd644142a85",
   "metadata": {},
   "outputs": [
    {
     "name": "stderr",
     "output_type": "stream",
     "text": [
      "C:\\ProgramData\\anaconda3\\Lib\\site-packages\\pyspark\\sql\\pandas\\utils.py:37: DeprecationWarning: distutils Version classes are deprecated. Use packaging.version instead.\n",
      "  if LooseVersion(pandas.__version__) < LooseVersion(minimum_pandas_version):\n",
      "C:\\ProgramData\\anaconda3\\Lib\\site-packages\\seaborn\\_oldcore.py:1498: DeprecationWarning: is_categorical_dtype is deprecated and will be removed in a future version. Use isinstance(dtype, pd.CategoricalDtype) instead\n",
      "  if pd.api.types.is_categorical_dtype(vector):\n"
     ]
    },
    {
     "data": {
      "image/png": "[encoded data removed]",
      "text/plain": [
       "<Figure size 640x480 with 1 Axes>"
      ]
     },
     "metadata": {},
     "output_type": "display_data"
    }
   ],
   "source": [
    "# Explore the distribution of experience of the driver\n",
    "boxplot(driver_df1, \"experience\")"
   ]
  },
  {
   "cell_type": "markdown",
   "id": "20397a7a-0463-495f-bae1-dc04a7e9f1f5",
   "metadata": {},
   "source": [
    "#### In the chart above, we see that there are a few drivers displaying experience as a negative number, this is impossible, it can be seen that there is some confusion in data input or some other unexpected error. We will remove it to avoid affecting the accuracy of the analysis"
   ]
  },
  {
   "cell_type": "code",
   "execution_count": 18,
   "id": "1645970b-a510-42bb-a7da-2fa1e78f8a60",
   "metadata": {},
   "outputs": [],
   "source": [
    "# remove the experience have nagetive data\n",
    "driver_df1 = driver_df1.filter(col(\"experience\") > 0)"
   ]
  },
  {
   "cell_type": "code",
   "execution_count": 19,
   "id": "5fb581c3",
   "metadata": {},
   "outputs": [
    {
     "name": "stderr",
     "output_type": "stream",
     "text": [
      "C:\\ProgramData\\anaconda3\\Lib\\site-packages\\pyspark\\sql\\pandas\\utils.py:37: DeprecationWarning: distutils Version classes are deprecated. Use packaging.version instead.\n",
      "  if LooseVersion(pandas.__version__) < LooseVersion(minimum_pandas_version):\n",
      "C:\\ProgramData\\anaconda3\\Lib\\site-packages\\seaborn\\_oldcore.py:1498: DeprecationWarning: is_categorical_dtype is deprecated and will be removed in a future version. Use isinstance(dtype, pd.CategoricalDtype) instead\n",
      "  if pd.api.types.is_categorical_dtype(vector):\n"
     ]
    },
    {
     "data": {
      "image/png": "[encoded data removed]",
      "text/plain": [
       "<Figure size 640x480 with 1 Axes>"
      ]
     },
     "metadata": {},
     "output_type": "display_data"
    }
   ],
   "source": [
    "# visualization\n",
    "boxplot(driver_df1, \"experience\")"
   ]
  },
  {
   "cell_type": "markdown",
   "id": "37825160-aebf-4c10-9831-14f68ca39cd5",
   "metadata": {},
   "source": [
    "#### After eliminating erroneous data, we see that there are some outlier data with years of experience of 25 years or more. For this oulier we should consider keeping them, because this is potentially a more important characteristic to evaluate the possibility of delay or not."
   ]
  },
  {
   "cell_type": "code",
   "execution_count": 24,
   "id": "5f20d455-9a6d-4eb9-ae77-9a0877bc838e",
   "metadata": {},
   "outputs": [
    {
     "name": "stderr",
     "output_type": "stream",
     "text": [
      "C:\\ProgramData\\anaconda3\\Lib\\site-packages\\pyspark\\sql\\pandas\\utils.py:37: DeprecationWarning: distutils Version classes are deprecated. Use packaging.version instead.\n",
      "  if LooseVersion(pandas.__version__) < LooseVersion(minimum_pandas_version):\n",
      "C:\\ProgramData\\anaconda3\\Lib\\site-packages\\seaborn\\_oldcore.py:1498: DeprecationWarning: is_categorical_dtype is deprecated and will be removed in a future version. Use isinstance(dtype, pd.CategoricalDtype) instead\n",
      "  if pd.api.types.is_categorical_dtype(vector):\n"
     ]
    },
    {
     "data": {
      "image/png": "[encoded data removed]",
      "text/plain": [
       "<Figure size 640x480 with 1 Axes>"
      ]
     },
     "metadata": {},
     "output_type": "display_data"
    }
   ],
   "source": [
    "# Explore the distribution of driving style\n",
    "data = driver_df1.select(\"ratings\").toPandas()\n",
    "sns.histplot(data[\"ratings\"], kde=False, bins=8)\n",
    "plt.xlabel(\"ratings\")\n",
    "plt.ylabel(\"Frequency\")\n",
    "plt.title(f\"Histogram of ratings\")\n",
    "plt.show()"
   ]
  },
  {
   "cell_type": "markdown",
   "id": "ce3d835b-2df7-4ae3-89dd-8675bad84d8b",
   "metadata": {},
   "source": [
    "#### Ratings range from 1 to 5 stars. Relatively distributed from 2 to 5 stars. However, there is one notable point: the highest 1-1.5 star rating and it is also very flattering that this is a review score from customers, maybe it is due to driving style, or late deliveries."
   ]
  },
  {
   "cell_type": "code",
   "execution_count": 129,
   "id": "9cfc519d-fbc0-400c-a548-165dda4f92a2",
   "metadata": {},
   "outputs": [
    {
     "name": "stdout",
     "output_type": "stream",
     "text": [
      "+-------------+------+\n",
      "|driving_style| count|\n",
      "+-------------+------+\n",
      "| conservative| 88900|\n",
      "|    proactive|104790|\n",
      "+-------------+------+\n",
      "\n"
     ]
    },
    {
     "name": "stderr",
     "output_type": "stream",
     "text": [
      "C:\\ProgramData\\anaconda3\\Lib\\site-packages\\pyspark\\sql\\pandas\\utils.py:37: DeprecationWarning: distutils Version classes are deprecated. Use packaging.version instead.\n",
      "  if LooseVersion(pandas.__version__) < LooseVersion(minimum_pandas_version):\n",
      "C:\\ProgramData\\anaconda3\\Lib\\site-packages\\seaborn\\_oldcore.py:1498: DeprecationWarning: is_categorical_dtype is deprecated and will be removed in a future version. Use isinstance(dtype, pd.CategoricalDtype) instead\n",
      "  if pd.api.types.is_categorical_dtype(vector):\n",
      "C:\\ProgramData\\anaconda3\\Lib\\site-packages\\seaborn\\_oldcore.py:1498: DeprecationWarning: is_categorical_dtype is deprecated and will be removed in a future version. Use isinstance(dtype, pd.CategoricalDtype) instead\n",
      "  if pd.api.types.is_categorical_dtype(vector):\n",
      "C:\\ProgramData\\anaconda3\\Lib\\site-packages\\seaborn\\_oldcore.py:1498: DeprecationWarning: is_categorical_dtype is deprecated and will be removed in a future version. Use isinstance(dtype, pd.CategoricalDtype) instead\n",
      "  if pd.api.types.is_categorical_dtype(vector):\n"
     ]
    },
    {
     "data": {
      "image/png": "[encoded data removed]",
      "text/plain": [
       "<Figure size 640x480 with 1 Axes>"
      ]
     },
     "metadata": {},
     "output_type": "display_data"
    }
   ],
   "source": [
    "# Explore the distribution of driving style\n",
    "driving_style = driver_df1.select(\"driving_style\").groupBy(\"driving_style\").count()\n",
    "driving_style.show()\n",
    "\n",
    "# visualization\n",
    "data_driving = driving_style.toPandas()\n",
    "sns.barplot(x = data_driving[\"driving_style\"], y = data_driving[\"count\"])\n",
    "plt.xlabel(\"driving_style\")\n",
    "plt.ylabel(\"frequency\")\n",
    "plt.title(\"Driving_style chart\")\n",
    "plt.show()"
   ]
  },
  {
   "cell_type": "markdown",
   "id": "919d5881-cbed-408d-95a2-99ecbdbd9797",
   "metadata": {},
   "source": [
    "#### There is a difference between driving styles, but not significant"
   ]
  },
  {
   "cell_type": "code",
   "execution_count": 131,
   "id": "2389f12b",
   "metadata": {},
   "outputs": [
    {
     "name": "stdout",
     "output_type": "stream",
     "text": [
      "+------+------+\n",
      "|gender| count|\n",
      "+------+------+\n",
      "|female| 11491|\n",
      "|  male|182199|\n",
      "+------+------+\n",
      "\n"
     ]
    },
    {
     "name": "stderr",
     "output_type": "stream",
     "text": [
      "C:\\ProgramData\\anaconda3\\Lib\\site-packages\\pyspark\\sql\\pandas\\utils.py:37: DeprecationWarning: distutils Version classes are deprecated. Use packaging.version instead.\n",
      "  if LooseVersion(pandas.__version__) < LooseVersion(minimum_pandas_version):\n",
      "C:\\ProgramData\\anaconda3\\Lib\\site-packages\\seaborn\\_oldcore.py:1498: DeprecationWarning: is_categorical_dtype is deprecated and will be removed in a future version. Use isinstance(dtype, pd.CategoricalDtype) instead\n",
      "  if pd.api.types.is_categorical_dtype(vector):\n",
      "C:\\ProgramData\\anaconda3\\Lib\\site-packages\\seaborn\\_oldcore.py:1498: DeprecationWarning: is_categorical_dtype is deprecated and will be removed in a future version. Use isinstance(dtype, pd.CategoricalDtype) instead\n",
      "  if pd.api.types.is_categorical_dtype(vector):\n",
      "C:\\ProgramData\\anaconda3\\Lib\\site-packages\\seaborn\\_oldcore.py:1498: DeprecationWarning: is_categorical_dtype is deprecated and will be removed in a future version. Use isinstance(dtype, pd.CategoricalDtype) instead\n",
      "  if pd.api.types.is_categorical_dtype(vector):\n"
     ]
    },
    {
     "data": {
      "image/png": "[encoded data removed]",
      "text/plain": [
       "<Figure size 640x480 with 1 Axes>"
      ]
     },
     "metadata": {},
     "output_type": "display_data"
    }
   ],
   "source": [
    "# Explore the distribution of gender of the driver\n",
    "gender = driver_df1.select(\"gender\").groupBy(\"gender\").count()\n",
    "gender.show()\n",
    "\n",
    "# visualization\n",
    "data_gender = gender.toPandas()\n",
    "sns.barplot(x=data_gender[\"gender\"], y=data_gender[\"count\"])\n",
    "plt.xlabel(\"gender\")\n",
    "plt.ylabel(\"Frequency\")\n",
    "plt.title(\"gender chart\")\n",
    "plt.show()"
   ]
  },
  {
   "cell_type": "markdown",
   "id": "416e6db0-2dd7-407d-8efd-19a7c873788e",
   "metadata": {},
   "source": [
    "#### The drivers participating in the survey were mainly male, which is quite obvious due to the nature of the profession"
   ]
  },
  {
   "cell_type": "code",
   "execution_count": 25,
   "id": "354f7890",
   "metadata": {},
   "outputs": [
    {
     "name": "stdout",
     "output_type": "stream",
     "text": [
      "42299\n",
      "+--------------------+---+--------------------+-------------+----------+------+-----------------+-------+--------------------+\n",
      "|                 _id|age|           driver_id|driving_style|experience|gender|             name|ratings|          vehicle_no|\n",
      "+--------------------+---+--------------------+-------------+----------+------+-----------------+-------+--------------------+\n",
      "|{65df3f5e73bdaf54...| 39|76a283a440aa4799a...|    proactive|        11|  male|Michael Mcconnell|    5.0|a7022bf811ed40ef9...|\n",
      "|{65df3f5a73bdaf54...| 40|843f66e8bcf2479e9...|    proactive|        11|  male|    Scott Johnson|    5.0|1efbcb288cb843c4b...|\n",
      "|{65df3f5c73bdaf54...| 40|046ad46921104e6db...|    proactive|        11|  male|    Andrew Forbes|    5.0|254869b1ffac41fea...|\n",
      "|{65df3f5273bdaf54...| 41|1a4b914157a949d6b...|    proactive|        19|  male|        Chad Ward|    5.0|d396e24ad6474d0d8...|\n",
      "|{65df3f5373bdaf54...| 41|22faf877ea1c4c0aa...|    proactive|        16|  male|  Andrew Gallegos|    5.0|2962791326de4abfa...|\n",
      "+--------------------+---+--------------------+-------------+----------+------+-----------------+-------+--------------------+\n",
      "\n"
     ]
    }
   ],
   "source": [
    "# Define the filter conditions\n",
    "filter_conditions = (\n",
    "    (col(\"gender\") == \"male\") &\n",
    "    (col(\"experience\") > 10) &\n",
    "    (col(\"driving_style\") == \"proactive\") &\n",
    "    (\n",
    "        ((col(\"age\") >= 40) & (col(\"age\") <= 55)) |\n",
    "        (col(\"ratings\") > 4)\n",
    "    )\n",
    ")\n",
    "\n",
    "# Count the number of documents matching the filter conditions\n",
    "count_driver = driver_df.filter(filter_conditions).count()\n",
    "print(count_driver)\n",
    "\n",
    "# Sort and limit the DataFrame to get the top 5 results\n",
    "sorted_df = driver_df.filter(filter_conditions).sort(col(\"ratings\").desc(), col(\"age\")).limit(5)\n",
    "\n",
    "sorted_df.show()"
   ]
  },
  {
   "cell_type": "code",
   "execution_count": 26,
   "id": "0c50e9cf",
   "metadata": {},
   "outputs": [
    {
     "name": "stdout",
     "output_type": "stream",
     "text": [
      "+------+-------------+------------------+\n",
      "|gender|driving_style|       average_age|\n",
      "+------+-------------+------------------+\n",
      "|female|    proactive|47.617490739249476|\n",
      "|  male| conservative|   47.607249635246|\n",
      "|  male|    proactive| 47.58790233412118|\n",
      "|female| conservative| 47.44774706550549|\n",
      "+------+-------------+------------------+\n",
      "\n"
     ]
    }
   ],
   "source": [
    "# Calculate the average age grouped by gender and driving_style\n",
    "result = driver_df1.groupBy(\"gender\", \"driving_style\").agg(avg(\"age\").alias(\"average_age\"))\n",
    "\n",
    "# Show the result\n",
    "result.show()"
   ]
  },
  {
   "cell_type": "markdown",
   "id": "665bee8a-079a-4371-9164-2713c62b69dc",
   "metadata": {},
   "source": [
    "### We look at driving performance: consider whether drivers' ratings are affected by driving style (conservative or proactive)."
   ]
  },
  {
   "cell_type": "code",
   "execution_count": 40,
   "id": "bf3595d1",
   "metadata": {},
   "outputs": [
    {
     "name": "stderr",
     "output_type": "stream",
     "text": [
      "C:\\ProgramData\\anaconda3\\Lib\\site-packages\\seaborn\\_oldcore.py:1498: DeprecationWarning: is_categorical_dtype is deprecated and will be removed in a future version. Use isinstance(dtype, pd.CategoricalDtype) instead\n",
      "  if pd.api.types.is_categorical_dtype(vector):\n",
      "C:\\ProgramData\\anaconda3\\Lib\\site-packages\\seaborn\\_oldcore.py:1498: DeprecationWarning: is_categorical_dtype is deprecated and will be removed in a future version. Use isinstance(dtype, pd.CategoricalDtype) instead\n",
      "  if pd.api.types.is_categorical_dtype(vector):\n",
      "C:\\ProgramData\\anaconda3\\Lib\\site-packages\\seaborn\\_oldcore.py:1498: DeprecationWarning: is_categorical_dtype is deprecated and will be removed in a future version. Use isinstance(dtype, pd.CategoricalDtype) instead\n",
      "  if pd.api.types.is_categorical_dtype(vector):\n"
     ]
    },
    {
     "data": {
      "image/png": "[encoded data removed]",
      "text/plain": [
       "<Figure size 640x480 with 1 Axes>"
      ]
     },
     "metadata": {},
     "output_type": "display_data"
    }
   ],
   "source": [
    "# visualization the driving_style and ratings columns\n",
    "sns.boxplot(x=\"driving_style\", y=\"ratings\", data = compare_rating_style )\n",
    "plt.title(\"Ratings vs Driving Style\")\n",
    "plt.show()"
   ]
  },
  {
   "cell_type": "markdown",
   "id": "c6bf9b42-242f-4977-b651-7588f2169aa8",
   "metadata": {},
   "source": [
    "#### There is a significant correlation between the two columns with a correlation coefficient of 0.5, however according to the boxplot it appears that all driving styles have ratings from 1 star to 5 stars. This shows that the correlation from the above coefficient is a coincidence."
   ]
  },
  {
   "cell_type": "markdown",
   "id": "9f564d3f-3a0d-4139-a0c7-71199db082da",
   "metadata": {},
   "source": [
    "## Evaluate truck performance with truck_df dataset"
   ]
  },
  {
   "cell_type": "code",
   "execution_count": 30,
   "id": "e8a72457-92b2-4f33-9e4b-7fc6d20394dd",
   "metadata": {},
   "outputs": [
    {
     "name": "stdout",
     "output_type": "stream",
     "text": [
      "root\n",
      " |-- _id: struct (nullable = true)\n",
      " |    |-- oid: string (nullable = true)\n",
      " |-- fuel_type: string (nullable = true)\n",
      " |-- load_capacity_pounds: double (nullable = true)\n",
      " |-- mileage_mpg: integer (nullable = true)\n",
      " |-- truck_age: integer (nullable = true)\n",
      " |-- truck_id: string (nullable = true)\n",
      "\n"
     ]
    }
   ],
   "source": [
    "# Check the characteristics of the data\n",
    "truck_df.printSchema()"
   ]
  },
  {
   "cell_type": "code",
   "execution_count": 31,
   "id": "1ba962a5-a0dc-4dd1-845b-abc74591d2b4",
   "metadata": {},
   "outputs": [
    {
     "name": "stdout",
     "output_type": "stream",
     "text": [
      "+--------------------+---------+--------------------+-----------+---------+--------------------+\n",
      "|                 _id|fuel_type|load_capacity_pounds|mileage_mpg|truck_age|            truck_id|\n",
      "+--------------------+---------+--------------------+-----------+---------+--------------------+\n",
      "|{65df419b73bdaf54...|   diesel|             20000.0|         24|       12|2f0705c938e545a0a...|\n",
      "|{65df419b73bdaf54...|      gas|              6000.0|         18|       17|765d4022c30848c3a...|\n",
      "|{65df419b73bdaf54...|      gas|             15000.0|         17|       17|3e6c63a346d14608a...|\n",
      "|{65df419b73bdaf54...|   diesel|             15000.0|         23|       18|5c80f31e59d84908a...|\n",
      "|{65df419b73bdaf54...|   diesel|              4000.0|         21|        6|0c5537386a614cbaa...|\n",
      "+--------------------+---------+--------------------+-----------+---------+--------------------+\n",
      "only showing top 5 rows\n",
      "\n"
     ]
    }
   ],
   "source": [
    "# show top 5 the information\n",
    "truck_df.show(5)"
   ]
  },
  {
   "cell_type": "code",
   "execution_count": 32,
   "id": "527d570b-17a6-49c2-9fcb-73edafa356fb",
   "metadata": {},
   "outputs": [
    {
     "name": "stdout",
     "output_type": "stream",
     "text": [
      "+-------+--------------------+------------------+-----------------+\n",
      "|summary|load_capacity_pounds|       mileage_mpg|        truck_age|\n",
      "+-------+--------------------+------------------+-----------------+\n",
      "|  count|              192123|            200000|           200000|\n",
      "|   mean|   9007.703398343769|          20.80687|         14.49133|\n",
      "| stddev|   5631.728014764157|3.5572312368709382|4.993816128182662|\n",
      "|    min|              3000.0|                 8|               -6|\n",
      "|    max|             20000.0|                32|               36|\n",
      "+-------+--------------------+------------------+-----------------+\n",
      "\n"
     ]
    }
   ],
   "source": [
    "# show the describe of columns have integer format\n",
    "truck_df.select(['load_capacity_pounds', 'mileage_mpg', 'truck_age']).describe().show()"
   ]
  },
  {
   "cell_type": "markdown",
   "id": "602cc521-1fcd-4d1c-a6b1-b13725b938c6",
   "metadata": {},
   "source": [
    "#### According to the Truck_age column, the age of the truck has negative numeric data, which also creates doubts about the data, we remove those negative values."
   ]
  },
  {
   "cell_type": "code",
   "execution_count": 33,
   "id": "e23e0b79-bcef-4cf2-9286-795fcb0f9558",
   "metadata": {},
   "outputs": [],
   "source": [
    "# Coppy truck_df into truck_df1\n",
    "truck_df1 = truck_df\n",
    "\n",
    "truck_df1 = truck_df1.filter(col(\"truck_age\") >= 0)"
   ]
  },
  {
   "cell_type": "code",
   "execution_count": 34,
   "id": "648262e8-4997-43e5-bdb0-533eefb840d0",
   "metadata": {},
   "outputs": [
    {
     "name": "stdout",
     "output_type": "stream",
     "text": [
      "+-------+--------------------+------------------+------------------+\n",
      "|summary|load_capacity_pounds|       mileage_mpg|         truck_age|\n",
      "+-------+--------------------+------------------+------------------+\n",
      "|  count|              191993|            199866|            199866|\n",
      "|   mean|   9007.484647877787|20.806840583190738|14.502271521919686|\n",
      "| stddev|   5631.602589841603| 3.557290556187595| 4.977496437610574|\n",
      "|    min|              3000.0|                 8|                 0|\n",
      "|    max|             20000.0|                32|                36|\n",
      "+-------+--------------------+------------------+------------------+\n",
      "\n"
     ]
    }
   ],
   "source": [
    "# show the describe of columns have integer format\n",
    "truck_df1.select(['load_capacity_pounds', 'mileage_mpg', 'truck_age']).describe().show()"
   ]
  },
  {
   "cell_type": "code",
   "execution_count": 35,
   "id": "1c397eff-4378-46a0-b4cc-1c48f65c8279",
   "metadata": {},
   "outputs": [
    {
     "name": "stdout",
     "output_type": "stream",
     "text": [
      "+-----------+-----------------+----------------------------+-------------------+-----------------+----------------+\n",
      "|_id_miss(%)|fuel_type_miss(%)|load_capacity_pounds_miss(%)|mileage_mpg_miss(%)|truck_age_miss(%)|truck_id_miss(%)|\n",
      "+-----------+-----------------+----------------------------+-------------------+-----------------+----------------+\n",
      "|        0.0|3.956000000000004|          3.9385000000000003|                0.0|              0.0|             0.0|\n",
      "+-----------+-----------------+----------------------------+-------------------+-----------------+----------------+\n",
      "\n"
     ]
    }
   ],
   "source": [
    "# Checking any missing\n",
    "truck_df_missing = truck_df.agg(*[\n",
    "    ((1-sum(col(c).isNotNull().cast(\"int\")) / count('*'))*100).alias(c + '_miss(%)')\n",
    "    for c in truck_df.columns\n",
    "])\n",
    "truck_df_missing.show()"
   ]
  },
  {
   "cell_type": "markdown",
   "id": "40d30114-dad7-41f1-9d0e-b20b2f971127",
   "metadata": {},
   "source": [
    "####  There are some missing values in the fuel_type and load_capacity_pounds columns, we replace the missing values by mode"
   ]
  },
  {
   "cell_type": "code",
   "execution_count": 36,
   "id": "eeeecbe9-00d2-4f28-a549-4e207db85f3e",
   "metadata": {},
   "outputs": [],
   "source": [
    "#replace the null value by mode\n",
    "inputCol = [\"fuel_type\", \"load_capacity_pounds\"]\n",
    "\n",
    "truck_mod = {}\n",
    "for c in inputCol:\n",
    "    mode = truck_df1.select(c).groupBy(c).count().orderBy(col(\"count\").desc()).select(c).first()[0]\n",
    "    truck_mod[c] = mode\n",
    "\n",
    "for c, mode in truck_mod.items():\n",
    "    truck_df1 = truck_df1.withColumn(c, when(col(c).isNull(), mode).otherwise(col(c)))"
   ]
  },
  {
   "cell_type": "code",
   "execution_count": 37,
   "id": "86eac347",
   "metadata": {
    "scrolled": true
   },
   "outputs": [
    {
     "name": "stdout",
     "output_type": "stream",
     "text": [
      "+-----------+-----------------+----------------------------+-------------------+-----------------+----------------+\n",
      "|_id_miss(%)|fuel_type_miss(%)|load_capacity_pounds_miss(%)|mileage_mpg_miss(%)|truck_age_miss(%)|truck_id_miss(%)|\n",
      "+-----------+-----------------+----------------------------+-------------------+-----------------+----------------+\n",
      "|        0.0|              0.0|                         0.0|                0.0|              0.0|             0.0|\n",
      "+-----------+-----------------+----------------------------+-------------------+-----------------+----------------+\n",
      "\n"
     ]
    }
   ],
   "source": [
    "# Checking any missing\n",
    "truck_df_missing1 = truck_df1.agg(*[\n",
    "    ((1-sum(col(c).isNotNull().cast(\"int\")) / count('*'))*100).alias(c + '_miss(%)')\n",
    "    for c in truck_df1.columns\n",
    "])\n",
    "truck_df_missing1.show()"
   ]
  },
  {
   "cell_type": "code",
   "execution_count": 38,
   "id": "04c2ba04-d7a4-4dfe-9aa7-e0caa17bb851",
   "metadata": {
    "scrolled": false
   },
   "outputs": [
    {
     "name": "stderr",
     "output_type": "stream",
     "text": [
      "C:\\ProgramData\\anaconda3\\Lib\\site-packages\\pyspark\\sql\\pandas\\utils.py:37: DeprecationWarning: distutils Version classes are deprecated. Use packaging.version instead.\n",
      "  if LooseVersion(pandas.__version__) < LooseVersion(minimum_pandas_version):\n",
      "C:\\ProgramData\\anaconda3\\Lib\\site-packages\\seaborn\\_oldcore.py:1498: DeprecationWarning: is_categorical_dtype is deprecated and will be removed in a future version. Use isinstance(dtype, pd.CategoricalDtype) instead\n",
      "  if pd.api.types.is_categorical_dtype(vector):\n"
     ]
    },
    {
     "data": {
      "image/png": "[encoded data removed]",
      "text/plain": [
       "<Figure size 640x480 with 1 Axes>"
      ]
     },
     "metadata": {},
     "output_type": "display_data"
    }
   ],
   "source": [
    "# Analysis of age distribution of trucks\n",
    "boxplot(truck_df1, \"truck_age\")"
   ]
  },
  {
   "cell_type": "markdown",
   "id": "9b474e86-3e9e-4f50-9fbf-9536e7bb622d",
   "metadata": {},
   "source": [
    "#### Most trucks have been used for quite a long time, the average age of trucks is about 14.5 years. whether this is likely to affect the vehicle's performance or not"
   ]
  },
  {
   "cell_type": "code",
   "execution_count": 39,
   "id": "7b953876-b198-4568-9ab8-6234733ead67",
   "metadata": {},
   "outputs": [
    {
     "name": "stdout",
     "output_type": "stream",
     "text": [
      "+--------------------+-----+\n",
      "|load_capacity_pounds|count|\n",
      "+--------------------+-----+\n",
      "|             10000.0|29961|\n",
      "|              3000.0|39927|\n",
      "|             20000.0|16126|\n",
      "|              6000.0|30143|\n",
      "|              4000.0|30085|\n",
      "|             15000.0|53624|\n",
      "+--------------------+-----+\n",
      "\n"
     ]
    },
    {
     "name": "stderr",
     "output_type": "stream",
     "text": [
      "C:\\ProgramData\\anaconda3\\Lib\\site-packages\\pyspark\\sql\\pandas\\utils.py:37: DeprecationWarning: distutils Version classes are deprecated. Use packaging.version instead.\n",
      "  if LooseVersion(pandas.__version__) < LooseVersion(minimum_pandas_version):\n",
      "C:\\ProgramData\\anaconda3\\Lib\\site-packages\\seaborn\\_oldcore.py:1498: DeprecationWarning: is_categorical_dtype is deprecated and will be removed in a future version. Use isinstance(dtype, pd.CategoricalDtype) instead\n",
      "  if pd.api.types.is_categorical_dtype(vector):\n",
      "C:\\ProgramData\\anaconda3\\Lib\\site-packages\\seaborn\\_oldcore.py:1498: DeprecationWarning: is_categorical_dtype is deprecated and will be removed in a future version. Use isinstance(dtype, pd.CategoricalDtype) instead\n",
      "  if pd.api.types.is_categorical_dtype(vector):\n",
      "C:\\ProgramData\\anaconda3\\Lib\\site-packages\\seaborn\\_oldcore.py:1498: DeprecationWarning: is_categorical_dtype is deprecated and will be removed in a future version. Use isinstance(dtype, pd.CategoricalDtype) instead\n",
      "  if pd.api.types.is_categorical_dtype(vector):\n"
     ]
    },
    {
     "data": {
      "image/png": "[encoded data removed]",
      "text/plain": [
       "<Figure size 640x480 with 1 Axes>"
      ]
     },
     "metadata": {},
     "output_type": "display_data"
    }
   ],
   "source": [
    "# Analysis distribution of load capacity in years.\n",
    "load_capacity_pounds = truck_df1.select(\"load_capacity_pounds\").groupBy(\"load_capacity_pounds\").count()\n",
    "load_capacity_pounds.show()\n",
    "\n",
    "# visualization\n",
    "load_capacity_pounds_data = load_capacity_pounds.toPandas()\n",
    "sns.barplot(x= load_capacity_pounds_data[\"load_capacity_pounds\"], y= load_capacity_pounds_data[\"count\"])\n",
    "plt.xlabel(\"load_capacity_pounds\")\n",
    "plt.ylabel(\"frequency\")\n",
    "plt.title(\"load_capacity_pounds Chart\")\n",
    "plt.show()"
   ]
  },
  {
   "cell_type": "markdown",
   "id": "5c8879e3-0941-4e40-a3cf-6eeea2ccee5e",
   "metadata": {},
   "source": [
    "#### loading capacity of the truck in years most of 15000"
   ]
  },
  {
   "cell_type": "code",
   "execution_count": 40,
   "id": "8d7b7831-372c-4e6e-8cc5-ebe6b84a68d3",
   "metadata": {},
   "outputs": [
    {
     "name": "stdout",
     "output_type": "stream",
     "text": [
      "+---------+------+\n",
      "|fuel_type| count|\n",
      "+---------+------+\n",
      "|      gas| 84244|\n",
      "|   diesel|115622|\n",
      "+---------+------+\n",
      "\n"
     ]
    },
    {
     "name": "stderr",
     "output_type": "stream",
     "text": [
      "C:\\ProgramData\\anaconda3\\Lib\\site-packages\\pyspark\\sql\\pandas\\utils.py:37: DeprecationWarning: distutils Version classes are deprecated. Use packaging.version instead.\n",
      "  if LooseVersion(pandas.__version__) < LooseVersion(minimum_pandas_version):\n",
      "C:\\ProgramData\\anaconda3\\Lib\\site-packages\\seaborn\\_oldcore.py:1498: DeprecationWarning: is_categorical_dtype is deprecated and will be removed in a future version. Use isinstance(dtype, pd.CategoricalDtype) instead\n",
      "  if pd.api.types.is_categorical_dtype(vector):\n",
      "C:\\ProgramData\\anaconda3\\Lib\\site-packages\\seaborn\\_oldcore.py:1498: DeprecationWarning: is_categorical_dtype is deprecated and will be removed in a future version. Use isinstance(dtype, pd.CategoricalDtype) instead\n",
      "  if pd.api.types.is_categorical_dtype(vector):\n",
      "C:\\ProgramData\\anaconda3\\Lib\\site-packages\\seaborn\\_oldcore.py:1498: DeprecationWarning: is_categorical_dtype is deprecated and will be removed in a future version. Use isinstance(dtype, pd.CategoricalDtype) instead\n",
      "  if pd.api.types.is_categorical_dtype(vector):\n"
     ]
    },
    {
     "data": {
      "image/png": "[encoded data removed]",
      "text/plain": [
       "<Figure size 640x480 with 1 Axes>"
      ]
     },
     "metadata": {},
     "output_type": "display_data"
    }
   ],
   "source": [
    "# Analysis distribution of fuel_types\n",
    "fuel_types = truck_df1.select(\"fuel_type\").groupBy(\"fuel_type\").count()\n",
    "fuel_types.show()\n",
    "\n",
    "# visualization\n",
    "fuel_data = fuel_types.toPandas()\n",
    "sns.barplot(x= fuel_data[\"fuel_type\"], y= fuel_data[\"count\"])\n",
    "plt.xlabel(\"fuel_type\")\n",
    "plt.ylabel(\"frequency\")\n",
    "plt.title(\"Fuel Types Chart\")\n",
    "plt.show()"
   ]
  },
  {
   "cell_type": "markdown",
   "id": "6193831d-7f5e-4ef5-b529-27e7a38594ed",
   "metadata": {},
   "source": [
    "#### The ratio of using diesel is higher than gas, because it is likely that most diesel engines will bring more fuel economy and the load can also be larger."
   ]
  },
  {
   "cell_type": "code",
   "execution_count": 41,
   "id": "dfd724d8-bcb7-4e35-8e28-9d8f44cc53ad",
   "metadata": {},
   "outputs": [
    {
     "name": "stdout",
     "output_type": "stream",
     "text": [
      "+--------------------+------------------+\n",
      "|load_capacity_pounds|    avg(truck_age)|\n",
      "+--------------------+------------------+\n",
      "|             10000.0| 14.51146490437569|\n",
      "|              3000.0|14.537556039772586|\n",
      "|             20000.0|14.494791020711894|\n",
      "|              6000.0|14.524168131904588|\n",
      "|              4000.0|14.467143094565397|\n",
      "|             15000.0|14.480512457108757|\n",
      "+--------------------+------------------+\n",
      "\n"
     ]
    },
    {
     "name": "stderr",
     "output_type": "stream",
     "text": [
      "C:\\ProgramData\\anaconda3\\Lib\\site-packages\\pyspark\\sql\\pandas\\utils.py:37: DeprecationWarning: distutils Version classes are deprecated. Use packaging.version instead.\n",
      "  if LooseVersion(pandas.__version__) < LooseVersion(minimum_pandas_version):\n",
      "C:\\ProgramData\\anaconda3\\Lib\\site-packages\\seaborn\\_oldcore.py:1498: DeprecationWarning: is_categorical_dtype is deprecated and will be removed in a future version. Use isinstance(dtype, pd.CategoricalDtype) instead\n",
      "  if pd.api.types.is_categorical_dtype(vector):\n",
      "C:\\ProgramData\\anaconda3\\Lib\\site-packages\\seaborn\\_oldcore.py:1498: DeprecationWarning: is_categorical_dtype is deprecated and will be removed in a future version. Use isinstance(dtype, pd.CategoricalDtype) instead\n",
      "  if pd.api.types.is_categorical_dtype(vector):\n",
      "C:\\ProgramData\\anaconda3\\Lib\\site-packages\\seaborn\\_oldcore.py:1498: DeprecationWarning: is_categorical_dtype is deprecated and will be removed in a future version. Use isinstance(dtype, pd.CategoricalDtype) instead\n",
      "  if pd.api.types.is_categorical_dtype(vector):\n"
     ]
    },
    {
     "data": {
      "image/png": "[encoded data removed]",
      "text/plain": [
       "<Figure size 640x480 with 1 Axes>"
      ]
     },
     "metadata": {},
     "output_type": "display_data"
    }
   ],
   "source": [
    "# Calculate the average age of trucks and learn the relationship between age and truck performance.\n",
    "distribution = truck_df1.groupBy(\"load_capacity_pounds\").agg({\"truck_age\": \"mean\"})\n",
    "distribution.show()\n",
    "\n",
    "# Visualization\n",
    "sns.boxplot(x=\"load_capacity_pounds\", y=\"truck_age\", data=truck_df1.toPandas())\n",
    "plt.title(\"Load Capacity vs truck_age\")\n",
    "plt.show()\n"
   ]
  },
  {
   "cell_type": "markdown",
   "id": "b9654a08-3b70-487d-a8ba-1c81d46060d9",
   "metadata": {},
   "source": [
    "#### with load performance varying across different years of trucks. shows that even though the number of years of use increases, maximum performance is still maintained"
   ]
  },
  {
   "cell_type": "markdown",
   "id": "4aa2e875-2205-484c-8640-a5f296c71a21",
   "metadata": {},
   "source": [
    "### Compare fuel consumption"
   ]
  },
  {
   "cell_type": "code",
   "execution_count": 42,
   "id": "fb7f8691-5249-4759-8fc0-8ba5b450e420",
   "metadata": {},
   "outputs": [
    {
     "name": "stdout",
     "output_type": "stream",
     "text": [
      "+---------+------------------+\n",
      "|fuel_type|  avg(mileage_mpg)|\n",
      "+---------+------------------+\n",
      "|      gas|17.498207587483975|\n",
      "|   diesel| 23.21756240161907|\n",
      "+---------+------------------+\n",
      "\n"
     ]
    },
    {
     "name": "stderr",
     "output_type": "stream",
     "text": [
      "C:\\ProgramData\\anaconda3\\Lib\\site-packages\\pyspark\\sql\\pandas\\utils.py:37: DeprecationWarning: distutils Version classes are deprecated. Use packaging.version instead.\n",
      "  if LooseVersion(pandas.__version__) < LooseVersion(minimum_pandas_version):\n",
      "C:\\ProgramData\\anaconda3\\Lib\\site-packages\\seaborn\\_oldcore.py:1498: DeprecationWarning: is_categorical_dtype is deprecated and will be removed in a future version. Use isinstance(dtype, pd.CategoricalDtype) instead\n",
      "  if pd.api.types.is_categorical_dtype(vector):\n",
      "C:\\ProgramData\\anaconda3\\Lib\\site-packages\\seaborn\\_oldcore.py:1498: DeprecationWarning: is_categorical_dtype is deprecated and will be removed in a future version. Use isinstance(dtype, pd.CategoricalDtype) instead\n",
      "  if pd.api.types.is_categorical_dtype(vector):\n",
      "C:\\ProgramData\\anaconda3\\Lib\\site-packages\\seaborn\\_oldcore.py:1498: DeprecationWarning: is_categorical_dtype is deprecated and will be removed in a future version. Use isinstance(dtype, pd.CategoricalDtype) instead\n",
      "  if pd.api.types.is_categorical_dtype(vector):\n"
     ]
    },
    {
     "data": {
      "image/png": "[encoded data removed]",
      "text/plain": [
       "<Figure size 640x480 with 1 Axes>"
      ]
     },
     "metadata": {},
     "output_type": "display_data"
    }
   ],
   "source": [
    "# Compare the average fuel consumption of different types of trucks and analyze the relationship between fuel type and fuel consumption.\n",
    "distribution = truck_df1.groupBy(\"fuel_type\").agg({\"mileage_mpg\": \"mean\"})\n",
    "distribution.show()\n",
    "\n",
    "# statistics of the 'fuel_type' and mileage_mpg columns\n",
    "sns.boxplot(x=\"fuel_type\", y=\"mileage_mpg\", data=truck_df1.toPandas())\n",
    "plt.title(\"mileage of the truck  vs Fuel Type\")\n",
    "plt.show()"
   ]
  },
  {
   "cell_type": "markdown",
   "id": "f5f97d11",
   "metadata": {},
   "source": [
    "#### The above data shows that diesel will save more fuel than gas. bring more economic efficiency"
   ]
  },
  {
   "cell_type": "code",
   "execution_count": 43,
   "id": "e22a2582",
   "metadata": {},
   "outputs": [
    {
     "name": "stdout",
     "output_type": "stream",
     "text": [
      "+---------+------------------+\n",
      "|fuel_type|    avg(truck_age)|\n",
      "+---------+------------------+\n",
      "|      gas| 14.50108019562224|\n",
      "|   diesel|14.503139540917818|\n",
      "+---------+------------------+\n",
      "\n"
     ]
    },
    {
     "name": "stderr",
     "output_type": "stream",
     "text": [
      "C:\\ProgramData\\anaconda3\\Lib\\site-packages\\pyspark\\sql\\pandas\\utils.py:37: DeprecationWarning: distutils Version classes are deprecated. Use packaging.version instead.\n",
      "  if LooseVersion(pandas.__version__) < LooseVersion(minimum_pandas_version):\n",
      "C:\\ProgramData\\anaconda3\\Lib\\site-packages\\seaborn\\_oldcore.py:1498: DeprecationWarning: is_categorical_dtype is deprecated and will be removed in a future version. Use isinstance(dtype, pd.CategoricalDtype) instead\n",
      "  if pd.api.types.is_categorical_dtype(vector):\n",
      "C:\\ProgramData\\anaconda3\\Lib\\site-packages\\seaborn\\_oldcore.py:1498: DeprecationWarning: is_categorical_dtype is deprecated and will be removed in a future version. Use isinstance(dtype, pd.CategoricalDtype) instead\n",
      "  if pd.api.types.is_categorical_dtype(vector):\n",
      "C:\\ProgramData\\anaconda3\\Lib\\site-packages\\seaborn\\_oldcore.py:1498: DeprecationWarning: is_categorical_dtype is deprecated and will be removed in a future version. Use isinstance(dtype, pd.CategoricalDtype) instead\n",
      "  if pd.api.types.is_categorical_dtype(vector):\n"
     ]
    },
    {
     "data": {
      "image/png": "[encoded data removed]",
      "text/plain": [
       "<Figure size 640x480 with 1 Axes>"
      ]
     },
     "metadata": {},
     "output_type": "display_data"
    }
   ],
   "source": [
    "# statistics of the 'fuel_type' and truck_age columns\n",
    "truck_df1.groupBy(\"fuel_type\").agg({\"truck_age\": \"mean\"}).show()\n",
    "\n",
    "sns.boxplot(x=\"fuel_type\", y=\"truck_age\", data=truck_df1.toPandas())\n",
    "plt.title(\"age of the truck  vs fuel_type\")\n",
    "plt.show()"
   ]
  },
  {
   "cell_type": "markdown",
   "id": "00d5d008-afc1-4698-ac2b-b78f01c02340",
   "metadata": {},
   "source": [
    "#### There is no big difference between trucks using different fuels, overall durability is similar"
   ]
  },
  {
   "cell_type": "markdown",
   "id": "dac37586-9912-4b7e-9104-0cd25882f52d",
   "metadata": {},
   "source": [
    "# routes_df "
   ]
  },
  {
   "cell_type": "code",
   "execution_count": 45,
   "id": "7013d814-be81-4490-a5e5-9cf4a46b6cc6",
   "metadata": {},
   "outputs": [
    {
     "name": "stdout",
     "output_type": "stream",
     "text": [
      "root\n",
      " |-- _id: struct (nullable = true)\n",
      " |    |-- oid: string (nullable = true)\n",
      " |-- average_hours: double (nullable = true)\n",
      " |-- destination: string (nullable = true)\n",
      " |-- destination_lat: double (nullable = true)\n",
      " |-- destination_lon: double (nullable = true)\n",
      " |-- distance: double (nullable = true)\n",
      " |-- origin: string (nullable = true)\n",
      " |-- origin_lat: double (nullable = true)\n",
      " |-- origin_lon: double (nullable = true)\n",
      " |-- route_id: string (nullable = true)\n",
      "\n"
     ]
    }
   ],
   "source": [
    "# see the data type in dataset\n",
    "routes_df.printSchema()"
   ]
  },
  {
   "cell_type": "code",
   "execution_count": 46,
   "id": "8b554091-4c97-4dd8-9e3e-6691e7b4072e",
   "metadata": {},
   "outputs": [
    {
     "name": "stdout",
     "output_type": "stream",
     "text": [
      "+--------------------+-------------+----------------+---------------+---------------+--------+-------+----------+----------+--------------------+\n",
      "|                 _id|average_hours|     destination|destination_lat|destination_lon|distance| origin|origin_lat|origin_lon|            route_id|\n",
      "+--------------------+-------------+----------------+---------------+---------------+--------+-------+----------+----------+--------------------+\n",
      "|{65df3f8073bdaf54...|        40.91|          Alaska|         16.559|        -93.973| 2045.33|Alabama|    42.998|   -78.185| Alabama_Alaska_5878|\n",
      "|{65df3f8073bdaf54...|        39.22|         Arizona|         15.633|        -87.317| 1960.92|Alabama|    42.998|   -78.185|Alabama_Arizona_3285|\n",
      "|{65df3f8073bdaf54...|        21.55|   Arkansas City|         37.062|        -97.038| 1077.52|Alabama|    42.998|   -78.185|Alabama_Arkansas_...|\n",
      "|{65df3f8073bdaf54...|        43.73| California City|         35.126|       -117.985| 2186.33|Alabama|    42.998|   -78.185|Alabama_Californi...|\n",
      "|{65df3f8073bdaf54...|        28.35|Colorado Springs|         38.834|       -104.821| 1417.26|Alabama|    42.998|   -78.185|Alabama_Colorado_...|\n",
      "+--------------------+-------------+----------------+---------------+---------------+--------+-------+----------+----------+--------------------+\n",
      "only showing top 5 rows\n",
      "\n"
     ]
    }
   ],
   "source": [
    "# show the top 5 in dataset\n",
    "routes_df.show(5)"
   ]
  },
  {
   "cell_type": "code",
   "execution_count": 47,
   "id": "8b661bc4-741a-4b81-81be-beff649b0082",
   "metadata": {},
   "outputs": [
    {
     "name": "stdout",
     "output_type": "stream",
     "text": [
      "+-------+-----------------+-----------------+------------------+------------------+------------------+------------------+\n",
      "|summary|    average_hours|  destination_lat|   destination_lon|          distance|        origin_lat|        origin_lon|\n",
      "+-------+-----------------+-----------------+------------------+------------------+------------------+------------------+\n",
      "|  count|             2352|             2352|              2352|              2352|              2352|              2352|\n",
      "|   mean| 52.9769812925169|33.50981632653087|-69.84981632652988|2648.8444727891215| 33.50981632653121|-69.84981632652969|\n",
      "| stddev|58.47092904597492|17.78292905317311|52.876424843191096|2923.5500381344928|17.782929053173117|52.876424843191124|\n",
      "|    min|             0.08|          -30.733|          -122.606|               3.9|           -30.733|          -122.606|\n",
      "|    max|           209.42|           45.418|             150.6|          10471.22|            45.418|             150.6|\n",
      "+-------+-----------------+-----------------+------------------+------------------+------------------+------------------+\n",
      "\n"
     ]
    }
   ],
   "source": [
    "# show the describe of columns have a integer format\n",
    "routes_df.select(['average_hours', 'destination_lat', 'destination_lon', 'distance', 'origin_lat', 'origin_lon']).describe().show()"
   ]
  },
  {
   "cell_type": "code",
   "execution_count": 50,
   "id": "48da22fa-076c-4e50-ba63-2e7c1c55b7cb",
   "metadata": {},
   "outputs": [
    {
     "name": "stdout",
     "output_type": "stream",
     "text": [
      "+-----------+---------------------+-------------------+-----------------------+-----------------------+----------------+--------------+------------------+------------------+----------------+\n",
      "|_id_miss(%)|average_hours_miss(%)|destination_miss(%)|destination_lat_miss(%)|destination_lon_miss(%)|distance_miss(%)|origin_miss(%)|origin_lat_miss(%)|origin_lon_miss(%)|route_id_miss(%)|\n",
      "+-----------+---------------------+-------------------+-----------------------+-----------------------+----------------+--------------+------------------+------------------+----------------+\n",
      "|        0.0|                  0.0|                0.0|                    0.0|                    0.0|             0.0|           0.0|               0.0|               0.0|             0.0|\n",
      "+-----------+---------------------+-------------------+-----------------------+-----------------------+----------------+--------------+------------------+------------------+----------------+\n",
      "\n"
     ]
    }
   ],
   "source": [
    "# Checking any missing\n",
    "routes_df_missing = routes_df.agg(*[\n",
    "    ((1-sum(col(c).isNotNull().cast(\"int\")) / count('*'))*100).alias(c + '_miss(%)')\n",
    "    for c in routes_df.columns\n",
    "])\n",
    "routes_df_missing.show()"
   ]
  },
  {
   "cell_type": "code",
   "execution_count": 26,
   "id": "3a2e2e1f-2e2a-4a4c-be57-6d725c7b4bd8",
   "metadata": {},
   "outputs": [],
   "source": [
    "# no missing data in routes_df dataset\n",
    "# Coppy driver_df to driver_df1\n",
    "routes_df1 = routes_df"
   ]
  },
  {
   "cell_type": "code",
   "execution_count": 28,
   "id": "c7bd2ff8",
   "metadata": {},
   "outputs": [
    {
     "name": "stderr",
     "output_type": "stream",
     "text": [
      "C:\\ProgramData\\anaconda3\\Lib\\site-packages\\pyspark\\sql\\pandas\\utils.py:37: DeprecationWarning: distutils Version classes are deprecated. Use packaging.version instead.\n",
      "  if LooseVersion(pandas.__version__) < LooseVersion(minimum_pandas_version):\n",
      "C:\\ProgramData\\anaconda3\\Lib\\site-packages\\seaborn\\_oldcore.py:1498: DeprecationWarning: is_categorical_dtype is deprecated and will be removed in a future version. Use isinstance(dtype, pd.CategoricalDtype) instead\n",
      "  if pd.api.types.is_categorical_dtype(vector):\n"
     ]
    },
    {
     "data": {
      "image/png": "[encoded data removed]",
      "text/plain": [
       "<Figure size 640x480 with 1 Axes>"
      ]
     },
     "metadata": {},
     "output_type": "display_data"
    }
   ],
   "source": [
    "# statistics of the average hours\n",
    "boxplot(routes_df1,\"average_hours\")"
   ]
  },
  {
   "cell_type": "code",
   "execution_count": 53,
   "id": "944c13a8-091a-476c-8e72-5eb35a20daed",
   "metadata": {},
   "outputs": [
    {
     "name": "stderr",
     "output_type": "stream",
     "text": [
      "C:\\ProgramData\\anaconda3\\Lib\\site-packages\\pyspark\\sql\\pandas\\utils.py:37: DeprecationWarning: distutils Version classes are deprecated. Use packaging.version instead.\n",
      "  if LooseVersion(pandas.__version__) < LooseVersion(minimum_pandas_version):\n",
      "C:\\ProgramData\\anaconda3\\Lib\\site-packages\\seaborn\\_oldcore.py:1498: DeprecationWarning: is_categorical_dtype is deprecated and will be removed in a future version. Use isinstance(dtype, pd.CategoricalDtype) instead\n",
      "  if pd.api.types.is_categorical_dtype(vector):\n"
     ]
    },
    {
     "data": {
      "image/png": "[encoded data removed]",
      "text/plain": [
       "<Figure size 640x480 with 1 Axes>"
      ]
     },
     "metadata": {},
     "output_type": "display_data"
    }
   ],
   "source": [
    "# statistics of the distance by boxplot\n",
    "boxplot(routes_df1,\"distance\")"
   ]
  },
  {
   "cell_type": "markdown",
   "id": "360a7937-8685-44f5-a454-f8487efc2807",
   "metadata": {},
   "source": [
    "# city_details "
   ]
  },
  {
   "cell_type": "code",
   "execution_count": 54,
   "id": "15488870",
   "metadata": {},
   "outputs": [
    {
     "name": "stdout",
     "output_type": "stream",
     "text": [
      "root\n",
      " |-- _id: struct (nullable = true)\n",
      " |    |-- oid: string (nullable = true)\n",
      " |-- city_id: integer (nullable = true)\n",
      " |-- lat: double (nullable = true)\n",
      " |-- lon: double (nullable = true)\n",
      " |-- name: string (nullable = true)\n",
      "\n"
     ]
    }
   ],
   "source": [
    "# show the information of data type\n",
    "city_details.printSchema()"
   ]
  },
  {
   "cell_type": "code",
   "execution_count": 55,
   "id": "4ae8e0f6-8654-4106-9e25-ec8053168b28",
   "metadata": {},
   "outputs": [
    {
     "name": "stdout",
     "output_type": "stream",
     "text": [
      "+--------------------+-------+------+--------+---------------+\n",
      "|                 _id|city_id|   lat|     lon|           name|\n",
      "+--------------------+-------+------+--------+---------------+\n",
      "|{65df3f2773bdaf54...|      1|42.998| -78.185|        Alabama|\n",
      "|{65df3f2773bdaf54...|      2|16.559| -93.973|         Alaska|\n",
      "|{65df3f2773bdaf54...|      3|15.633| -87.317|        Arizona|\n",
      "|{65df3f2773bdaf54...|      4|37.062| -97.038|  Arkansas City|\n",
      "|{65df3f2773bdaf54...|      5|35.126|-117.985|California City|\n",
      "+--------------------+-------+------+--------+---------------+\n",
      "only showing top 5 rows\n",
      "\n"
     ]
    }
   ],
   "source": [
    "# show the top 5 information in dataset\n",
    "city_details.show(5)"
   ]
  },
  {
   "cell_type": "code",
   "execution_count": 57,
   "id": "de7ce829-8665-4fa0-a99f-99a2d2f8cd36",
   "metadata": {},
   "outputs": [
    {
     "name": "stdout",
     "output_type": "stream",
     "text": [
      "+-----------+---------------+-----------+-----------+------------+\n",
      "|_id_miss(%)|city_id_miss(%)|lat_miss(%)|lon_miss(%)|name_miss(%)|\n",
      "+-----------+---------------+-----------+-----------+------------+\n",
      "|        0.0|            0.0|        0.0|        0.0|         0.0|\n",
      "+-----------+---------------+-----------+-----------+------------+\n",
      "\n"
     ]
    }
   ],
   "source": [
    "# Checking any missing\n",
    "city_details_missing = city_details.agg(*[\n",
    "    ((1-sum(col(c).isNotNull().cast(\"int\")) / count('*'))*100).alias(c + '_miss(%)')\n",
    "    for c in city_details.columns\n",
    "])\n",
    "city_details_missing.show()"
   ]
  },
  {
   "cell_type": "code",
   "execution_count": 58,
   "id": "625d4488-6738-41d9-a3e4-ae3b053557b9",
   "metadata": {},
   "outputs": [],
   "source": [
    "# no missing data in city_details dataset\n",
    "# Coppy city_details to city_details1\n",
    "city_details1 = city_details"
   ]
  },
  {
   "cell_type": "markdown",
   "id": "81e65d62-1987-488b-ae60-f19e78cb13e2",
   "metadata": {},
   "source": [
    "# truck_schedule_data "
   ]
  },
  {
   "cell_type": "code",
   "execution_count": 59,
   "id": "c1d56924-5fba-483d-8874-239709e391a1",
   "metadata": {},
   "outputs": [
    {
     "name": "stdout",
     "output_type": "stream",
     "text": [
      "root\n",
      " |-- _id: struct (nullable = true)\n",
      " |    |-- oid: string (nullable = true)\n",
      " |-- date: string (nullable = true)\n",
      " |-- delay: integer (nullable = true)\n",
      " |-- destination: string (nullable = true)\n",
      " |-- origin: string (nullable = true)\n",
      " |-- planned_eta: string (nullable = true)\n",
      " |-- route_id: string (nullable = true)\n",
      " |-- truck_id: string (nullable = true)\n",
      "\n"
     ]
    }
   ],
   "source": [
    "# show the information of data type\n",
    "truck_schedule_data.printSchema()"
   ]
  },
  {
   "cell_type": "code",
   "execution_count": 60,
   "id": "2e00259a-edc6-466f-8445-b9b176fff246",
   "metadata": {},
   "outputs": [
    {
     "name": "stdout",
     "output_type": "stream",
     "text": [
      "+--------------------+--------------------+-----+-------------+-------+--------------------+--------------------+--------------------+\n",
      "|                 _id|                date|delay|  destination| origin|         planned_eta|            route_id|            truck_id|\n",
      "+--------------------+--------------------+-----+-------------+-------+--------------------+--------------------+--------------------+\n",
      "|{65df415773bdaf54...|2017-01-01 07:00:...|    0|Arkansas City|Alabama|2017-01-02 04:33:...|Alabama_Arkansas_...|7589affd1aa241549...|\n",
      "|{65df415773bdaf54...|2017-01-01 07:00:...|    0|     Stamford|Alabama|2017-01-01 12:28:...|Alabama_Stamford_...|67fe5199640441ff9...|\n",
      "|{65df415773bdaf54...|2017-01-01 07:00:...|    0|     Delaware|Alabama|2017-01-01 13:16:...|Alabama_Delaware_785|b354409d1bdb44a69...|\n",
      "|{65df415773bdaf54...|2017-01-01 07:00:...|    0|Illinois City|Alabama|2017-01-01 20:13:...|Alabama_Illinois_...|66eeaa53d37c4bb89...|\n",
      "|{65df415773bdaf54...|2017-01-01 07:00:...|    0| Indianapolis|Alabama|2017-01-01 16:24:...|Alabama_Indianapo...|d42c107242254b23b...|\n",
      "+--------------------+--------------------+-----+-------------+-------+--------------------+--------------------+--------------------+\n",
      "only showing top 5 rows\n",
      "\n"
     ]
    }
   ],
   "source": [
    "# show the top 5 in dataset\n",
    "truck_schedule_data.show(5)"
   ]
  },
  {
   "cell_type": "code",
   "execution_count": 63,
   "id": "cde27a19-2c06-48d2-a8ac-80cee2e0637b",
   "metadata": {},
   "outputs": [
    {
     "name": "stdout",
     "output_type": "stream",
     "text": [
      "+-----------+------------+-------------+-------------------+--------------+-------------------+----------------+----------------+\n",
      "|_id_miss(%)|date_miss(%)|delay_miss(%)|destination_miss(%)|origin_miss(%)|planned_eta_miss(%)|route_id_miss(%)|truck_id_miss(%)|\n",
      "+-----------+------------+-------------+-------------------+--------------+-------------------+----------------+----------------+\n",
      "|        0.0|         0.0|          0.0|                0.0|           0.0|                0.0|             0.0|             0.0|\n",
      "+-----------+------------+-------------+-------------------+--------------+-------------------+----------------+----------------+\n",
      "\n"
     ]
    }
   ],
   "source": [
    "#driver_null_missing = driver_df.isnull().sum()/driver_df.isnull().count().sort_values(descending = True).todataframes()\n",
    "truck_schedule_data_missing = truck_schedule_data.agg(*[\n",
    "    ((1-sum(col(c).isNotNull().cast(\"int\")) / count('*'))*100).alias(c + '_miss(%)')\n",
    "    for c in truck_schedule_data.columns\n",
    "])\n",
    "truck_schedule_data_missing.show()"
   ]
  },
  {
   "cell_type": "code",
   "execution_count": 64,
   "id": "479f5cf5-6b27-4113-ae9d-f2f083ba3fad",
   "metadata": {},
   "outputs": [],
   "source": [
    "# No missing data in truck_schedule_data dataset\n",
    "# Coppy driver_df to driver_df1\n",
    "truck_schedule_data1 = truck_schedule_data"
   ]
  },
  {
   "cell_type": "code",
   "execution_count": 135,
   "id": "74fc0228-8535-4220-8577-c54c6f9c5519",
   "metadata": {},
   "outputs": [
    {
     "name": "stdout",
     "output_type": "stream",
     "text": [
      "+-----+------+\n",
      "|delay| count|\n",
      "+-----+------+\n",
      "|    1| 37113|\n",
      "|    0|528997|\n",
      "+-----+------+\n",
      "\n"
     ]
    },
    {
     "name": "stderr",
     "output_type": "stream",
     "text": [
      "C:\\ProgramData\\anaconda3\\Lib\\site-packages\\pyspark\\sql\\pandas\\utils.py:37: DeprecationWarning: distutils Version classes are deprecated. Use packaging.version instead.\n",
      "  if LooseVersion(pandas.__version__) < LooseVersion(minimum_pandas_version):\n"
     ]
    },
    {
     "data": {
      "image/png": "[encoded data removed]",
      "text/plain": [
       "<Figure size 640x480 with 1 Axes>"
      ]
     },
     "metadata": {},
     "output_type": "display_data"
    }
   ],
   "source": [
    "# explore the delay column in dataset\n",
    "delay = truck_schedule_data1.select(\"delay\").groupBy(\"delay\").count()\n",
    "delay.show()\n",
    "\n",
    "delay_chart = delay.toPandas()\n",
    "plt.pie(delay_chart['count'], labels = ['1: delay arrival','0: on-time arrival'], autopct='%1.1f%%')\n",
    "plt.title(\"delay chart\")\n",
    "plt.show()"
   ]
  },
  {
   "cell_type": "markdown",
   "id": "77cd510d-d084-4e86-b350-1c6ae9bf4bfb",
   "metadata": {},
   "source": [
    "#### The delay rate is relatively not high, about 6.6%"
   ]
  },
  {
   "cell_type": "markdown",
   "id": "44dcc9cc-b569-4049-8d21-ccf0174a2370",
   "metadata": {},
   "source": [
    "# weather_data "
   ]
  },
  {
   "cell_type": "code",
   "execution_count": 67,
   "id": "cfad8a13",
   "metadata": {},
   "outputs": [
    {
     "name": "stdout",
     "output_type": "stream",
     "text": [
      "root\n",
      " |-- _id: struct (nullable = true)\n",
      " |    |-- oid: string (nullable = true)\n",
      " |-- chanceoffog: integer (nullable = true)\n",
      " |-- chanceofrain: integer (nullable = true)\n",
      " |-- chanceofsnow: integer (nullable = true)\n",
      " |-- chanceofthunder: integer (nullable = true)\n",
      " |-- city_id: integer (nullable = true)\n",
      " |-- date: string (nullable = true)\n",
      " |-- description: string (nullable = true)\n",
      " |-- hour: integer (nullable = true)\n",
      " |-- humidity: integer (nullable = true)\n",
      " |-- precip: double (nullable = true)\n",
      " |-- pressure: integer (nullable = true)\n",
      " |-- temp: integer (nullable = true)\n",
      " |-- visibility: integer (nullable = true)\n",
      " |-- wind_speed: integer (nullable = true)\n",
      "\n"
     ]
    }
   ],
   "source": [
    "# see the information datatype in dataset\n",
    "weather_data.printSchema()"
   ]
  },
  {
   "cell_type": "code",
   "execution_count": 68,
   "id": "cf107239-d9a8-4b77-bb14-8fece43d9043",
   "metadata": {},
   "outputs": [
    {
     "name": "stdout",
     "output_type": "stream",
     "text": [
      "+--------------------+-----------+------------+------------+---------------+-------+----------+-----------+----+--------+------+--------+----+----------+----------+\n",
      "|                 _id|chanceoffog|chanceofrain|chanceofsnow|chanceofthunder|city_id|      date|description|hour|humidity|precip|pressure|temp|visibility|wind_speed|\n",
      "+--------------------+-----------+------------+------------+---------------+-------+----------+-----------+----+--------+------+--------+----+----------+----------+\n",
      "|{6635b70d4932efa9...|          0|           0|           0|              0|      1|2017-01-01| Heavy snow|   0|      90|   0.0|    1010|  30|         1|        11|\n",
      "|{6635b70d4932efa9...|          0|           0|           0|              0|      1|2017-01-01| Heavy snow| 100|      91|   0.0|    1012|  30|         3|        11|\n",
      "|{6635b70d4932efa9...|          0|           0|           0|              0|      1|2017-01-01|     Cloudy| 200|      91|   0.0|    1013|  28|         4|        11|\n",
      "|{6635b70d4932efa9...|          0|           0|           0|              0|      1|2017-01-01|     Cloudy| 300|      92|   0.0|    1015|  27|         6|        11|\n",
      "|{6635b70d4932efa9...|          0|           0|           0|              0|      1|2017-01-01|     Cloudy| 400|      93|   0.0|    1016|  27|         6|         9|\n",
      "+--------------------+-----------+------------+------------+---------------+-------+----------+-----------+----+--------+------+--------+----+----------+----------+\n",
      "only showing top 5 rows\n",
      "\n"
     ]
    }
   ],
   "source": [
    "# show the top 5 dataset\n",
    "weather_data.show(5)"
   ]
  },
  {
   "cell_type": "code",
   "execution_count": 69,
   "id": "1a7149fe",
   "metadata": {},
   "outputs": [
    {
     "name": "stdout",
     "output_type": "stream",
     "text": [
      "+-------+-----------------+-----------------+------------------+------------------+------------------+-----------------+\n",
      "|summary|             hour|         humidity|          pressure|              temp|        visibility|       wind_speed|\n",
      "+-------+-----------------+-----------------+------------------+------------------+------------------+-----------------+\n",
      "|  count|           875424|           875424|            875424|            875424|            875424|           875424|\n",
      "|   mean|           1150.0| 68.5851084731513|1016.9548241766275| 56.60590411046533| 5.475722621266952|7.774787988449026|\n",
      "| stddev|692.2190506054509|21.12256434853005| 7.273102817692168|20.214027344669958|1.2966589297804605|4.447742045643889|\n",
      "|    min|                0|                3|               976|               -24|                 0|                0|\n",
      "|    max|             2300|              100|              1052|               113|                 6|               42|\n",
      "+-------+-----------------+-----------------+------------------+------------------+------------------+-----------------+\n",
      "\n"
     ]
    }
   ],
   "source": [
    "# See description for integer type\n",
    "weather_data.select(['hour', 'humidity', 'pressure', 'temp', 'visibility', 'wind_speed']).describe().show()"
   ]
  },
  {
   "cell_type": "code",
   "execution_count": 70,
   "id": "bc616926",
   "metadata": {},
   "outputs": [
    {
     "name": "stdout",
     "output_type": "stream",
     "text": [
      "+-----------+-------------------+--------------------+--------------------+-----------------------+---------------+------------+-------------------+------------+----------------+--------------+----------------+------------+------------------+------------------+\n",
      "|_id_miss(%)|chanceoffog_miss(%)|chanceofrain_miss(%)|chanceofsnow_miss(%)|chanceofthunder_miss(%)|city_id_miss(%)|date_miss(%)|description_miss(%)|hour_miss(%)|humidity_miss(%)|precip_miss(%)|pressure_miss(%)|temp_miss(%)|visibility_miss(%)|wind_speed_miss(%)|\n",
      "+-----------+-------------------+--------------------+--------------------+-----------------------+---------------+------------+-------------------+------------+----------------+--------------+----------------+------------+------------------+------------------+\n",
      "|        0.0|                0.0|                 0.0|                 0.0|                    0.0|            0.0|         0.0|                0.0|         0.0|             0.0|           0.0|             0.0|         0.0|               0.0|               0.0|\n",
      "+-----------+-------------------+--------------------+--------------------+-----------------------+---------------+------------+-------------------+------------+----------------+--------------+----------------+------------+------------------+------------------+\n",
      "\n"
     ]
    }
   ],
   "source": [
    "# Checking any missing\n",
    "weather_data_missing = weather_data.agg(*[\n",
    "    ((1-sum(col(c).isNotNull().cast(\"int\")) / count('*'))*100).alias(c + '_miss(%)')\n",
    "    for c in weather_data.columns\n",
    "])\n",
    "weather_data_missing.show()"
   ]
  },
  {
   "cell_type": "code",
   "execution_count": 29,
   "id": "ad84b011",
   "metadata": {},
   "outputs": [],
   "source": [
    "# No missing data in weather_data dataset\n",
    "# Coppy driver_df to driver_df1\n",
    "weather_data1 = weather_data"
   ]
  },
  {
   "cell_type": "code",
   "execution_count": 72,
   "id": "91937d16-cfc4-4930-bc65-c0ddaf46ea91",
   "metadata": {},
   "outputs": [
    {
     "name": "stdout",
     "output_type": "stream",
     "text": [
      "+-----------+------+\n",
      "|chanceoffog| count|\n",
      "+-----------+------+\n",
      "|          0|875424|\n",
      "+-----------+------+\n",
      "\n"
     ]
    }
   ],
   "source": [
    "# see the chance of fog\n",
    "weather_data1.select(\"chanceoffog\").groupBy(\"chanceoffog\").count().show()"
   ]
  },
  {
   "cell_type": "code",
   "execution_count": 73,
   "id": "4796ebda-2cde-4739-8c02-9f64eb1df07e",
   "metadata": {},
   "outputs": [
    {
     "name": "stdout",
     "output_type": "stream",
     "text": [
      "+------------+------+\n",
      "|chanceofrain| count|\n",
      "+------------+------+\n",
      "|           0|875424|\n",
      "+------------+------+\n",
      "\n"
     ]
    }
   ],
   "source": [
    "# see the chance of rain\n",
    "weather_data1.select(\"chanceofrain\").groupBy(\"chanceofrain\").count().show()"
   ]
  },
  {
   "cell_type": "code",
   "execution_count": 74,
   "id": "94b15df0-2138-4f0b-9939-efdf27a9db2c",
   "metadata": {},
   "outputs": [
    {
     "name": "stdout",
     "output_type": "stream",
     "text": [
      "+------------+------+\n",
      "|chanceofsnow| count|\n",
      "+------------+------+\n",
      "|           0|875424|\n",
      "+------------+------+\n",
      "\n"
     ]
    }
   ],
   "source": [
    "# see the chance of snow\n",
    "weather_data1.select(\"chanceofsnow\").groupBy(\"chanceofsnow\").count().show()"
   ]
  },
  {
   "cell_type": "code",
   "execution_count": 75,
   "id": "07af870e-b623-47bc-b5ac-1bc652a1f014",
   "metadata": {},
   "outputs": [
    {
     "name": "stdout",
     "output_type": "stream",
     "text": [
      "+---------------+------+\n",
      "|chanceofthunder| count|\n",
      "+---------------+------+\n",
      "|              0|875424|\n",
      "+---------------+------+\n",
      "\n"
     ]
    }
   ],
   "source": [
    "# see the chance pf thunder\n",
    "weather_data1.select(\"chanceofthunder\").groupBy(\"chanceofthunder\").count().show()"
   ]
  },
  {
   "cell_type": "markdown",
   "id": "fbf19c58-a90d-4871-b4cb-97de1100687f",
   "metadata": {},
   "source": [
    "#### There is no need to predict that bad weather will occur such as rain, snow, or thunder, fog"
   ]
  },
  {
   "cell_type": "code",
   "execution_count": 38,
   "id": "58682b45-a7a5-4597-9bb2-873a9e96ab48",
   "metadata": {},
   "outputs": [
    {
     "name": "stderr",
     "output_type": "stream",
     "text": [
      "C:\\ProgramData\\anaconda3\\Lib\\site-packages\\pyspark\\sql\\pandas\\utils.py:37: DeprecationWarning: distutils Version classes are deprecated. Use packaging.version instead.\n",
      "  if LooseVersion(pandas.__version__) < LooseVersion(minimum_pandas_version):\n",
      "C:\\ProgramData\\anaconda3\\Lib\\site-packages\\seaborn\\_oldcore.py:1498: DeprecationWarning: is_categorical_dtype is deprecated and will be removed in a future version. Use isinstance(dtype, pd.CategoricalDtype) instead\n",
      "  if pd.api.types.is_categorical_dtype(vector):\n",
      "C:\\ProgramData\\anaconda3\\Lib\\site-packages\\seaborn\\_oldcore.py:1498: DeprecationWarning: is_categorical_dtype is deprecated and will be removed in a future version. Use isinstance(dtype, pd.CategoricalDtype) instead\n",
      "  if pd.api.types.is_categorical_dtype(vector):\n",
      "C:\\ProgramData\\anaconda3\\Lib\\site-packages\\seaborn\\_oldcore.py:1498: DeprecationWarning: is_categorical_dtype is deprecated and will be removed in a future version. Use isinstance(dtype, pd.CategoricalDtype) instead\n",
      "  if pd.api.types.is_categorical_dtype(vector):\n"
     ]
    },
    {
     "data": {
      "image/png": "[encoded data removed]",
      "text/plain": [
       "<Figure size 640x480 with 1 Axes>"
      ]
     },
     "metadata": {},
     "output_type": "display_data"
    }
   ],
   "source": [
    "# statistics the visibility\n",
    "visibility = weather_data1.select(\"visibility\").groupBy(\"visibility\").count()\n",
    "data = visibility.toPandas()\n",
    "sns.barplot(x = data[\"visibility\"], y=data[\"count\"])\n",
    "plt.xlabel(\"visibility\")\n",
    "plt.ylabel(\"count\")\n",
    "plt.title(\"visibility chart\")\n",
    "plt.show()"
   ]
  },
  {
   "cell_type": "code",
   "execution_count": 79,
   "id": "64f02c40-81c3-4a6f-b8c8-18681164654f",
   "metadata": {},
   "outputs": [
    {
     "name": "stderr",
     "output_type": "stream",
     "text": [
      "C:\\ProgramData\\anaconda3\\Lib\\site-packages\\pyspark\\sql\\pandas\\utils.py:37: DeprecationWarning: distutils Version classes are deprecated. Use packaging.version instead.\n",
      "  if LooseVersion(pandas.__version__) < LooseVersion(minimum_pandas_version):\n",
      "C:\\ProgramData\\anaconda3\\Lib\\site-packages\\seaborn\\_oldcore.py:1498: DeprecationWarning: is_categorical_dtype is deprecated and will be removed in a future version. Use isinstance(dtype, pd.CategoricalDtype) instead\n",
      "  if pd.api.types.is_categorical_dtype(vector):\n"
     ]
    },
    {
     "data": {
      "image/png": "[encoded data removed]",
      "text/plain": [
       "<Figure size 640x480 with 1 Axes>"
      ]
     },
     "metadata": {},
     "output_type": "display_data"
    }
   ],
   "source": [
    "# statistics of the wind_speed\n",
    "historam(weather_data1,\"wind_speed\")"
   ]
  },
  {
   "cell_type": "markdown",
   "id": "0da668be-a14a-4b3b-9631-5106e4fd5494",
   "metadata": {},
   "source": [
    "# traffic_data "
   ]
  },
  {
   "cell_type": "code",
   "execution_count": 92,
   "id": "dd289d72-2cda-4f66-b078-e0ae27da51b6",
   "metadata": {},
   "outputs": [],
   "source": [
    "# copy to another dataset\n",
    "traffic_data1 = traffic_data"
   ]
  },
  {
   "cell_type": "code",
   "execution_count": 93,
   "id": "00470062",
   "metadata": {},
   "outputs": [
    {
     "name": "stdout",
     "output_type": "stream",
     "text": [
      "root\n",
      " |-- _id: struct (nullable = true)\n",
      " |    |-- oid: string (nullable = true)\n",
      " |-- accident: integer (nullable = true)\n",
      " |-- date: string (nullable = true)\n",
      " |-- hour: integer (nullable = true)\n",
      " |-- no_of_vehicles: integer (nullable = true)\n",
      " |-- route_id: string (nullable = true)\n",
      " |-- vehicles: integer (nullable = true)\n",
      "\n"
     ]
    }
   ],
   "source": [
    "# print schmea data\n",
    "traffic_data1.printSchema()"
   ]
  },
  {
   "cell_type": "code",
   "execution_count": 94,
   "id": "519e60b4",
   "metadata": {},
   "outputs": [
    {
     "name": "stdout",
     "output_type": "stream",
     "text": [
      "+--------------------+--------+----------+----+--------------+-------------------+--------+\n",
      "|                 _id|accident|      date|hour|no_of_vehicles|           route_id|vehicles|\n",
      "+--------------------+--------+----------+----+--------------+-------------------+--------+\n",
      "|{662deb934a6e679a...|       0|01-01-2017|   0|           453|Alabama_Alaska_5878|     453|\n",
      "|{662deb934a6e679a...|       1|01-01-2017| 100|           453|Alabama_Alaska_5878|     946|\n",
      "|{662deb934a6e679a...|       0|01-01-2017| 200|          1124|Alabama_Alaska_5878|    1124|\n",
      "|{662deb934a6e679a...|       0|01-01-2017| 300|          1124|Alabama_Alaska_5878|    1124|\n",
      "|{662deb934a6e679a...|       0|01-01-2017| 400|          1124|Alabama_Alaska_5878|    1124|\n",
      "|{662deb934a6e679a...|       0|01-01-2017| 500|          1124|Alabama_Alaska_5878|    1124|\n",
      "|{662deb934a6e679a...|       0|01-01-2017| 600|          1124|Alabama_Alaska_5878|    1124|\n",
      "|{662deb934a6e679a...|       0|01-01-2017| 700|          1124|Alabama_Alaska_5878|    1124|\n",
      "|{662deb934a6e679a...|       0|01-01-2017| 800|          1124|Alabama_Alaska_5878|    1124|\n",
      "|{662deb934a6e679a...|       0|01-01-2017| 900|          1124|Alabama_Alaska_5878|    1124|\n",
      "+--------------------+--------+----------+----+--------------+-------------------+--------+\n",
      "only showing top 10 rows\n",
      "\n"
     ]
    }
   ],
   "source": [
    "# see top 10 data\n",
    "traffic_data1.show(10)"
   ]
  },
  {
   "cell_type": "code",
   "execution_count": 95,
   "id": "89f332b4",
   "metadata": {},
   "outputs": [
    {
     "name": "stdout",
     "output_type": "stream",
     "text": [
      "+-------+--------------------+-----------------+------------------+------------------+\n",
      "|summary|            accident|             hour|    no_of_vehicles|          vehicles|\n",
      "+-------+--------------------+-----------------+------------------+------------------+\n",
      "|  count|             1521000|          1521000|           1521000|           1521000|\n",
      "|   mean|0.052671926364234053|           1150.0|1006.4926055226824|1032.4598652202499|\n",
      "| stddev| 0.22337776823828873|692.2188827970837|289.29658098473203|306.17764671771033|\n",
      "|    min|                   0|                0|               118|               118|\n",
      "|    max|                   1|             2300|              1124|              1617|\n",
      "+-------+--------------------+-----------------+------------------+------------------+\n",
      "\n"
     ]
    }
   ],
   "source": [
    "# see the describe the data with only integer format\n",
    "traffic_data1.select(['accident','hour','no_of_vehicles','vehicles']).describe().show()"
   ]
  },
  {
   "cell_type": "code",
   "execution_count": 96,
   "id": "c79b5d2d",
   "metadata": {},
   "outputs": [
    {
     "name": "stdout",
     "output_type": "stream",
     "text": [
      "+-----------+----------------+------------+------------+----------------------+----------------+----------------+\n",
      "|_id_miss(%)|accident_miss(%)|date_miss(%)|hour_miss(%)|no_of_vehicles_miss(%)|route_id_miss(%)|vehicles_miss(%)|\n",
      "+-----------+----------------+------------+------------+----------------------+----------------+----------------+\n",
      "|        0.0|             0.0|         0.0|         0.0|                   0.0|             0.0|             0.0|\n",
      "+-----------+----------------+------------+------------+----------------------+----------------+----------------+\n",
      "\n"
     ]
    }
   ],
   "source": [
    "#driver_null_missing = driver_df.isnull().sum()/driver_df.isnull().count().sort_values(descending = True).todataframes()\n",
    "traffic_data_missing = traffic_data1.agg(*[\n",
    "    ((1-sum(col(c).isNotNull().cast(\"int\")) / count('*'))*100).alias(c + '_miss(%)')\n",
    "    for c in traffic_data1.columns\n",
    "])\n",
    "traffic_data_missing.show()"
   ]
  },
  {
   "cell_type": "code",
   "execution_count": 120,
   "id": "77569849",
   "metadata": {},
   "outputs": [],
   "source": [
    "# No data missing value \n",
    "# Coppy driver_df to driver_df1\n",
    "traffic_data1 = traffic_data\n"
   ]
  },
  {
   "cell_type": "code",
   "execution_count": 99,
   "id": "1cf6c293-f0c5-4f79-a556-c051169ccb84",
   "metadata": {},
   "outputs": [
    {
     "name": "stdout",
     "output_type": "stream",
     "text": [
      "+-----+------+\n",
      "|delay| count|\n",
      "+-----+------+\n",
      "|    1| 37113|\n",
      "|    0|528997|\n",
      "+-----+------+\n",
      "\n"
     ]
    },
    {
     "name": "stderr",
     "output_type": "stream",
     "text": [
      "C:\\ProgramData\\anaconda3\\Lib\\site-packages\\pyspark\\sql\\pandas\\utils.py:37: DeprecationWarning: distutils Version classes are deprecated. Use packaging.version instead.\n",
      "  if LooseVersion(pandas.__version__) < LooseVersion(minimum_pandas_version):\n"
     ]
    },
    {
     "data": {
      "image/png": "[encoded data removed]",
      "text/plain": [
       "<Figure size 640x480 with 1 Axes>"
      ]
     },
     "metadata": {},
     "output_type": "display_data"
    }
   ],
   "source": [
    "# statistic the ratio traffic\n",
    "accident = traffic_data1.select(\"accident\").groupBy(\"accident\").count()\n",
    "delay.show()\n",
    "\n",
    "accident_chart = accident.toPandas()\n",
    "plt.pie(accident_chart['count'], labels = ['1: Accident','0: No accident'], autopct='%1.1f%%')\n",
    "plt.title(\"accident_chart\")\n",
    "plt.show()"
   ]
  },
  {
   "cell_type": "markdown",
   "id": "22cbcebb-c8f8-49c9-a962-20df5cc90826",
   "metadata": {},
   "source": [
    "# Determinate the correlation of varibles with Delay varible"
   ]
  },
  {
   "cell_type": "code",
   "execution_count": 81,
   "id": "72409562-eb31-486b-a04b-fa7a9b542229",
   "metadata": {},
   "outputs": [],
   "source": [
    "#Find delays based on precipitation  buckets\n",
    "\n",
    "# Filter truck_schedule_data for delayed routes \n",
    "filtered_routes = truck_schedule_data.filter((col(\"delay\") == 1)) # & (col(\"origin\") == \"Alabama\")\n",
    "\n",
    "# Join filtered_routes with city_details to get city_id\n",
    "joined_routes = filtered_routes.join(city_details, filtered_routes[\"origin\"] == city_details[\"name\"], \"left\")\n",
    "\n",
    "# Join joined_routes with weather_data to get weather information\n",
    "joined_data = joined_routes.join(weather_data, joined_routes[\"city_id\"] == weather_data[\"city_id\"], \"left\")"
   ]
  },
  {
   "cell_type": "code",
   "execution_count": 83,
   "id": "93a73981",
   "metadata": {},
   "outputs": [
    {
     "name": "stdout",
     "output_type": "stream",
     "text": [
      "+---------------+------+------+\n",
      "|delay_fuel_type|diesel|   gas|\n",
      "+---------------+------+------+\n",
      "|              0|306266|222342|\n",
      "|              1| 21494| 15597|\n",
      "+---------------+------+------+\n",
      "\n"
     ]
    },
    {
     "name": "stderr",
     "output_type": "stream",
     "text": [
      "C:\\ProgramData\\anaconda3\\Lib\\site-packages\\pyspark\\sql\\pandas\\utils.py:37: DeprecationWarning: distutils Version classes are deprecated. Use packaging.version instead.\n",
      "  if LooseVersion(pandas.__version__) < LooseVersion(minimum_pandas_version):\n"
     ]
    },
    {
     "data": {
      "text/plain": [
       "<Axes: >"
      ]
     },
     "execution_count": 83,
     "metadata": {},
     "output_type": "execute_result"
    },
    {
     "data": {
      "image/png": "[encoded data removed]",
      "text/plain": [
       "<Figure size 640x480 with 1 Axes>"
      ]
     },
     "metadata": {},
     "output_type": "display_data"
    }
   ],
   "source": [
    "# compare fuel_type and delay\n",
    "df = detail_truck_scheduel.crosstab(\"delay\", \"fuel_type\")\n",
    "df.show()\n",
    "\n",
    "detail_truck_scheduel.crosstab(\"delay\", \"fuel_type\").toPandas().plot.bar()"
   ]
  },
  {
   "cell_type": "markdown",
   "id": "b1913dcb",
   "metadata": {},
   "source": [
    "#### There is no significant difference in trip delays between diesel and gas trucks. However, the overall assessment is that the number of trucks using diesel is 1.5 times more than the number of trucks using gas."
   ]
  },
  {
   "cell_type": "code",
   "execution_count": 84,
   "id": "441709ba",
   "metadata": {},
   "outputs": [
    {
     "name": "stdout",
     "output_type": "stream",
     "text": [
      "+-----+------------------+\n",
      "|delay|    avg(truck_age)|\n",
      "+-----+------------------+\n",
      "|    0|14.488244597130578|\n",
      "|    1|14.529454584670136|\n",
      "+-----+------------------+\n",
      "\n"
     ]
    },
    {
     "name": "stderr",
     "output_type": "stream",
     "text": [
      "C:\\ProgramData\\anaconda3\\Lib\\site-packages\\pyspark\\sql\\pandas\\utils.py:37: DeprecationWarning: distutils Version classes are deprecated. Use packaging.version instead.\n",
      "  if LooseVersion(pandas.__version__) < LooseVersion(minimum_pandas_version):\n",
      "C:\\ProgramData\\anaconda3\\Lib\\site-packages\\seaborn\\_oldcore.py:1498: DeprecationWarning: is_categorical_dtype is deprecated and will be removed in a future version. Use isinstance(dtype, pd.CategoricalDtype) instead\n",
      "  if pd.api.types.is_categorical_dtype(vector):\n",
      "C:\\ProgramData\\anaconda3\\Lib\\site-packages\\seaborn\\_oldcore.py:1498: DeprecationWarning: is_categorical_dtype is deprecated and will be removed in a future version. Use isinstance(dtype, pd.CategoricalDtype) instead\n",
      "  if pd.api.types.is_categorical_dtype(vector):\n",
      "C:\\ProgramData\\anaconda3\\Lib\\site-packages\\seaborn\\_oldcore.py:1498: DeprecationWarning: is_categorical_dtype is deprecated and will be removed in a future version. Use isinstance(dtype, pd.CategoricalDtype) instead\n",
      "  if pd.api.types.is_categorical_dtype(vector):\n"
     ]
    },
    {
     "data": {
      "image/png": "[encoded data removed]",
      "text/plain": [
       "<Figure size 640x480 with 1 Axes>"
      ]
     },
     "metadata": {},
     "output_type": "display_data"
    }
   ],
   "source": [
    "# Compare truck_age and delay\n",
    "detail_truck_scheduel.groupBy(\"delay\").agg({\"truck_age\": \"mean\"}).show()\n",
    "\n",
    "# Trực quan hóa phân phối của dữ liệu theo biến phân loại 'fuel_type'\n",
    "sns.boxplot(x=\"delay\", y=\"truck_age\", data=detail_truck_scheduel.toPandas())\n",
    "plt.title(\"age of the truck  vs delay\")\n",
    "plt.show()\n"
   ]
  },
  {
   "cell_type": "markdown",
   "id": "879c6a5a",
   "metadata": {},
   "source": [
    "#### We can also see that the delay does not come from the number of years of use of the truck, but according to the chart, sometimes the longer the truck is used, the higher the punctuality."
   ]
  },
  {
   "cell_type": "code",
   "execution_count": 87,
   "id": "2e7f8378",
   "metadata": {},
   "outputs": [
    {
     "name": "stdout",
     "output_type": "stream",
     "text": [
      "+-----+------------------+\n",
      "|delay|     avg(distance)|\n",
      "+-----+------------------+\n",
      "|    1|1925.8859763425169|\n",
      "|    0|1228.1726354969776|\n",
      "+-----+------------------+\n",
      "\n"
     ]
    },
    {
     "name": "stderr",
     "output_type": "stream",
     "text": [
      "C:\\ProgramData\\anaconda3\\Lib\\site-packages\\pyspark\\sql\\pandas\\utils.py:37: DeprecationWarning: distutils Version classes are deprecated. Use packaging.version instead.\n",
      "  if LooseVersion(pandas.__version__) < LooseVersion(minimum_pandas_version):\n",
      "C:\\ProgramData\\anaconda3\\Lib\\site-packages\\seaborn\\_oldcore.py:1498: DeprecationWarning: is_categorical_dtype is deprecated and will be removed in a future version. Use isinstance(dtype, pd.CategoricalDtype) instead\n",
      "  if pd.api.types.is_categorical_dtype(vector):\n",
      "C:\\ProgramData\\anaconda3\\Lib\\site-packages\\seaborn\\_oldcore.py:1498: DeprecationWarning: is_categorical_dtype is deprecated and will be removed in a future version. Use isinstance(dtype, pd.CategoricalDtype) instead\n",
      "  if pd.api.types.is_categorical_dtype(vector):\n",
      "C:\\ProgramData\\anaconda3\\Lib\\site-packages\\seaborn\\_oldcore.py:1498: DeprecationWarning: is_categorical_dtype is deprecated and will be removed in a future version. Use isinstance(dtype, pd.CategoricalDtype) instead\n",
      "  if pd.api.types.is_categorical_dtype(vector):\n"
     ]
    },
    {
     "data": {
      "image/png": "[encoded data removed]",
      "text/plain": [
       "<Figure size 640x480 with 1 Axes>"
      ]
     },
     "metadata": {},
     "output_type": "display_data"
    }
   ],
   "source": [
    "# join data\n",
    "routes_truck_scheduel = truck_schedule_data1.join(routes_df1, truck_schedule_data1[\"route_id\"] \n",
    "                                                            == routes_df1[\"route_id\"], \"inner\")\n",
    "\n",
    "routes_truck_scheduel.groupBy(\"delay\").agg({\"distance\": \"mean\"}).show()\n",
    "\n",
    "# Trực quan hóa phân phối của dữ liệu theo biến phân loại 'fuel_type'\n",
    "sns.boxplot(x=\"delay\", y=\"distance\", data=routes_truck_scheduel.toPandas())\n",
    "plt.title(\"distance vs delay\")\n",
    "plt.show()"
   ]
  },
  {
   "cell_type": "markdown",
   "id": "62b31996",
   "metadata": {},
   "source": [
    "#### The average distance of delayed buses is high compared to buses that arrive on time. It is possible that the route also partly affects whether or not you are late"
   ]
  },
  {
   "cell_type": "markdown",
   "id": "c3ac7378",
   "metadata": {},
   "source": [
    "## Analyze whether there are frequent delays on specific routes."
   ]
  },
  {
   "cell_type": "code",
   "execution_count": 136,
   "id": "739417ac",
   "metadata": {},
   "outputs": [],
   "source": [
    "# Find the months with most delays\n",
    "\n",
    "# Filter for delayed routes\n",
    "delayed_routes = truck_schedule_data.filter(col(\"delay\") == 1)\n",
    "\n",
    "# Extract year and month from the 'date' column\n",
    "delayed_routes = delayed_routes.withColumn(\"year\", year(col(\"date\")))\n",
    "delayed_routes = delayed_routes.withColumn(\"month\", month(col(\"date\")))\n",
    "\n",
    "# Group by year and month to count delays and unique routes affected\n",
    "monthly_delays = delayed_routes.groupBy(\"year\", \"month\").agg(\n",
    "    sum(\"delay\").alias(\"total_delays\"),\n",
    "    countDistinct(\"route_id\").alias(\"unique_routes_affected\")\n",
    ")\n",
    "\n",
    "# Create a window specification to rank months by total delays\n",
    "window_spec = Window.partitionBy(\"year\").orderBy(col(\"total_delays\").desc())\n",
    "\n",
    "# Add a rank column to find the month with the most delays for each year\n",
    "ranked_months = monthly_delays.withColumn(\"rank\", dense_rank().over(window_spec))\n",
    "\n",
    "# Filter for the top-ranked months (most delays)\n",
    "most_delayed_months = ranked_months.filter(col(\"rank\") == 1)\n",
    "\n",
    "# filter the delay by year\n",
    "delayed_year = delayed_routes.groupBy(\"year\").agg(sum(\"delay\").alias(\"totlal_delay\")).orderBy(col(\"year\"))\n"
   ]
  },
  {
   "cell_type": "code",
   "execution_count": 137,
   "id": "10f8ed7b",
   "metadata": {},
   "outputs": [
    {
     "name": "stdout",
     "output_type": "stream",
     "text": [
      "+----+------------+\n",
      "|year|totlal_delay|\n",
      "+----+------------+\n",
      "|2017|       19273|\n",
      "|2018|       17840|\n",
      "+----+------------+\n",
      "\n"
     ]
    }
   ],
   "source": [
    "# Show the result\n",
    "delayed_year.show()"
   ]
  },
  {
   "cell_type": "code",
   "execution_count": 138,
   "id": "eeddc55b",
   "metadata": {},
   "outputs": [
    {
     "name": "stdout",
     "output_type": "stream",
     "text": [
      "+----+-----+------------+----------------------+----+\n",
      "|year|month|total_delays|unique_routes_affected|rank|\n",
      "+----+-----+------------+----------------------+----+\n",
      "|2017|    1|        3740|                  1404|   1|\n",
      "|2018|    1|        1826|                  1009|   1|\n",
      "+----+-----+------------+----------------------+----+\n",
      "\n"
     ]
    }
   ],
   "source": [
    "# Show the result\n",
    "most_delayed_months.show()"
   ]
  },
  {
   "cell_type": "code",
   "execution_count": 139,
   "id": "1e5ac8b0",
   "metadata": {},
   "outputs": [
    {
     "name": "stdout",
     "output_type": "stream",
     "text": [
      "+----+-----+------------+----------------------+----+\n",
      "|year|month|total_delays|unique_routes_affected|rank|\n",
      "+----+-----+------------+----------------------+----+\n",
      "|2017|    1|        3740|                  1404|   1|\n",
      "|2017|    3|        2495|                  1208|   2|\n",
      "|2017|   12|        2339|                  1172|   3|\n",
      "|2017|    5|        1571|                  1103|   4|\n",
      "|2017|    2|        1360|                   865|   5|\n",
      "|2017|    8|        1300|                   986|   6|\n",
      "|2017|   10|        1237|                   889|   7|\n",
      "|2017|    9|        1237|                   891|   7|\n",
      "|2017|    4|        1158|                   818|   8|\n",
      "|2017|   11|        1140|                   873|   9|\n",
      "|2017|    6|         928|                   790|  10|\n",
      "|2017|    7|         768|                   608|  11|\n",
      "|2018|    1|        1826|                  1009|   1|\n",
      "|2018|    3|        1818|                  1042|   2|\n",
      "|2018|    2|        1797|                  1025|   3|\n",
      "|2018|   11|        1735|                   975|   4|\n",
      "|2018|    9|        1708|                   975|   5|\n",
      "|2018|    4|        1677|                  1062|   6|\n",
      "|2018|   12|        1600|                   933|   7|\n",
      "|2018|    5|        1213|                   801|   8|\n",
      "+----+-----+------------+----------------------+----+\n",
      "only showing top 20 rows\n",
      "\n"
     ]
    }
   ],
   "source": [
    "# Show the result\n",
    "ranked_months.show()"
   ]
  },
  {
   "cell_type": "code",
   "execution_count": 101,
   "id": "6a77a545",
   "metadata": {},
   "outputs": [
    {
     "name": "stdout",
     "output_type": "stream",
     "text": [
      "+--------------------+--------------------+------------+\n",
      "|              origin|         destination|total_delays|\n",
      "+--------------------+--------------------+------------+\n",
      "|   South Dakota Park|Pennsylvania Furnace|         104|\n",
      "|Pennsylvania Furnace|   South Dakota Park|         104|\n",
      "|       Nebraska City|Pennsylvania Furnace|          99|\n",
      "|Pennsylvania Furnace|       Nebraska City|          99|\n",
      "|              Nevada|           Worcester|          95|\n",
      "|           Worcester|              Nevada|          95|\n",
      "|       Oklahoma City|Pennsylvania Furnace|          94|\n",
      "|Pennsylvania Furnace|       Oklahoma City|          94|\n",
      "|Pennsylvania Furnace|       Arkansas City|          92|\n",
      "|       Arkansas City|Pennsylvania Furnace|          92|\n",
      "|      Minnesota City|           Worcester|          91|\n",
      "|             Alabama|   Mississippi State|          91|\n",
      "|Pennsylvania Furnace|         Kansas City|          91|\n",
      "|           Worcester|      Minnesota City|          91|\n",
      "|         Kansas City|Pennsylvania Furnace|          91|\n",
      "|   Mississippi State|             Alabama|          91|\n",
      "|              Dakota|           Worcester|          89|\n",
      "|           Worcester|              Dakota|          89|\n",
      "|   South Dakota Park|             Alabama|          89|\n",
      "|             Alabama|   South Dakota Park|          89|\n",
      "+--------------------+--------------------+------------+\n",
      "\n"
     ]
    }
   ],
   "source": [
    "# Find the most congested routes\n",
    "\n",
    "# Filter for delayed routes\n",
    "delayed_routes = truck_schedule_data1.filter(col(\"delay\") == 1)\n",
    "\n",
    "# Group by origin and destination to count delays\n",
    "route_counts = delayed_routes.groupBy(\"origin\", \"destination\").agg(count(\"*\").alias(\"total_delays\"))\n",
    "\n",
    "# Create a window specification to rank routes by total delays\n",
    "window_spec = Window.orderBy(col(\"total_delays\").desc())\n",
    "\n",
    "# Use the rank() function as a window function\n",
    "ranked_routes = route_counts.withColumn(\"rank\", count(\"*\").over(window_spec))\n",
    "\n",
    "# Filter for the top 10 most congested routes\n",
    "most_congested_routes = ranked_routes.filter(col(\"rank\") <= 20).select(\"origin\", \"destination\", \"total_delays\")\n",
    "\n",
    "# Show the result\n",
    "most_congested_routes.show()"
   ]
  },
  {
   "cell_type": "code",
   "execution_count": 102,
   "id": "76d8842a",
   "metadata": {},
   "outputs": [
    {
     "name": "stdout",
     "output_type": "stream",
     "text": [
      "+-------------+----------+-----------+\n",
      "|precip_bucket|routeCount|totalDelays|\n",
      "+-------------+----------+-----------+\n",
      "|          1.0|      3377|       3377|\n",
      "|          0.5|    106474|     106474|\n",
      "+-------------+----------+-----------+\n",
      "\n"
     ]
    }
   ],
   "source": [
    "#Find delays based on precipitation  buckets\n",
    "\n",
    "# Filter truck_schedule_data for delayed routes \n",
    "filtered_routes = truck_schedule_data.filter((col(\"delay\") == 1)) # & (col(\"origin\") == \"Alabama\")\n",
    "\n",
    "# Join filtered_routes with city_details to get city_id\n",
    "joined_routes = filtered_routes.join(city_details, filtered_routes[\"origin\"] == city_details[\"name\"], \"left\")\n",
    "\n",
    "# Join joined_routes with weather_data to get weather information\n",
    "joined_data = joined_routes.join(weather_data, joined_routes[\"city_id\"] == weather_data[\"city_id\"], \"left\")\n",
    "\n",
    "\n",
    "# Define precipitation buckets\n",
    "precip_buckets = [0, 0.5, 1.0, 1.5, 2.0, 2.5]\n",
    "\n",
    "# Create a new column to bucket precipitation\n",
    "joined_data = joined_data.withColumn(\n",
    "    \"precip_bucket\",\n",
    "    when(col(\"precip\").isNull(), \"Other\").otherwise(\n",
    "        when(col(\"precip\").isin(precip_buckets), col(\"precip\")).otherwise(\"Other\")\n",
    "    )\n",
    ")\n",
    "\n",
    "\n",
    "# Group by precipitation buckets and aggregate total routes\n",
    "route_counts = joined_data.groupBy(\"precip_bucket\").agg(\n",
    "    {\"route_id\": \"count\"}\n",
    ").withColumnRenamed(\"count(route_id)\", \"routeCount\")\n",
    "\n",
    "\n",
    "\n",
    "# Group by precipitation buckets and aggregate delayed routes\n",
    "delayed_route_counts = joined_data.filter(col(\"delay\") == 1).groupBy(\"precip_bucket\").agg(\n",
    "    {\"delay\": \"sum\"}\n",
    ").withColumnRenamed(\"sum(delay)\", \"totalDelays\")\n",
    "\n",
    "# Join the two DataFrames on 'precip_bucket' column\n",
    "agg_result = route_counts.join(delayed_route_counts, \"precip_bucket\", \"left\")\n",
    "\n",
    "# Filter the DataFrame to keep only rows with precip_bucket 1.0 or 0.5\n",
    "filtered_df = agg_result.filter((col(\"precip_bucket\") == 1.0) | (col(\"precip_bucket\") == 0.5))\n",
    "\n",
    "# Show the filtered DataFrame\n",
    "filtered_df.show()"
   ]
  },
  {
   "cell_type": "code",
   "execution_count": 103,
   "id": "8124aba4",
   "metadata": {},
   "outputs": [],
   "source": [
    "# Calculate average delay under different weather conditions\n",
    "\n",
    "# Convert date and time columns to timestamp\n",
    "truck_schedule_data1 = truck_schedule_data1.withColumn(\n",
    "    \"departure_timestamp\", unix_timestamp(col(\"date\"), \"yyyy-MM-dd HH:mm:ss.SSSSSSSSS\").cast(\"timestamp\")\n",
    ")\n",
    "\n",
    "truck_schedule_data1 = truck_schedule_data1.withColumn(\n",
    "    \"arrival_timestamp\", unix_timestamp(col(\"planned_eta\"), \"yyyy-MM-dd HH:mm:ss.SSSSSSSSS\").cast(\"timestamp\")\n",
    ")\n",
    "\n",
    "truck_schedule_data1 = truck_schedule_data1.withColumn(\n",
    "    \"duration_minutes\", abs((col(\"arrival_timestamp\").cast(\"long\") - col(\"departure_timestamp\").cast(\"long\")) / 60)\n",
    ")\n",
    "\n",
    "# Extract the date from the timestamp\n",
    "truck_schedule_data1 = truck_schedule_data1.withColumn(\"date\", expr(\"date(departure_timestamp)\"))\n",
    "\n",
    "# Extract the hour from the timestamp\n",
    "truck_schedule_data1 = truck_schedule_data1.withColumn(\"dep_hour\", expr(\"hour(departure_timestamp)\"))\n",
    "\n",
    "# Convert the \"date\" column in truck_schedule_data to a string format that matches the \"date\" column in weather_data\n",
    "truck_schedule_data1 = truck_schedule_data1.withColumn(\"date_str\", expr(\"date_format(departure_timestamp, 'yyyy-MM-dd')\"))"
   ]
  },
  {
   "cell_type": "code",
   "execution_count": 104,
   "id": "51cfca45",
   "metadata": {},
   "outputs": [
    {
     "name": "stdout",
     "output_type": "stream",
     "text": [
      "+--------------------+--------------------+\n",
      "|         description|avg_duration_minutes|\n",
      "+--------------------+--------------------+\n",
      "|Patchy sleet poss...|  2017.9876896794285|\n",
      "|              Cloudy|   1453.089698394298|\n",
      "|          Light rain|  1494.3845682553379|\n",
      "|Moderate or heavy...|  1254.2630036246983|\n",
      "|          Heavy rain|  1669.1479993722824|\n",
      "|        Blowing snow|  1532.3954133228958|\n",
      "|Patchy rain possible|  1547.3405869811031|\n",
      "|Torrential rain s...|  1502.6718910356715|\n",
      "|Patchy snow possible|  1330.7246535456256|\n",
      "|Moderate or heavy...|  1491.6352300111832|\n",
      "|   Patchy light rain|  1425.3093642280066|\n",
      "|                 Fog|  1505.5555861546616|\n",
      "|       Partly cloudy|  1537.9875722032414|\n",
      "|   Patchy heavy snow|   1369.734401676897|\n",
      "|               Sunny|  1533.5734759557602|\n",
      "|Patchy light drizzle|   1476.931371915841|\n",
      "|Moderate or heavy...|   2368.289678260855|\n",
      "|       Light drizzle|  1451.3323913369604|\n",
      "| Heavy rain at times|  1724.3328998640675|\n",
      "|Patchy light rain...|  1559.7815618307318|\n",
      "+--------------------+--------------------+\n",
      "only showing top 20 rows\n",
      "\n"
     ]
    }
   ],
   "source": [
    "# Join truck_schedule_data with weather_data based on date and hour\n",
    "joined_data_schedule = truck_schedule_data1.join(\n",
    "    weather_data1,\n",
    "    (truck_schedule_data1[\"date_str\"] == weather_data1[\"date\"]) & (col(\"dep_hour\") == (weather_data1[\"hour\"]/100)),\n",
    "    \"inner\"\n",
    ")\n",
    "\n",
    "# Calculate average delay under different weather conditions\n",
    "avg_delay_by_weather = joined_data_schedule.groupBy(\"description\").agg(avg(\"duration_minutes\").alias(\"avg_duration_minutes\"))\n",
    "\n",
    "\n",
    "avg_delay_by_weather.show()"
   ]
  },
  {
   "cell_type": "code",
   "execution_count": 105,
   "id": "463f43da",
   "metadata": {},
   "outputs": [
    {
     "name": "stdout",
     "output_type": "stream",
     "text": [
      "+--------------------+-----------+\n",
      "|         description|Total_delay|\n",
      "+--------------------+-----------+\n",
      "|Patchy rain possible|      53787|\n",
      "|   Light rain shower|      50591|\n",
      "|Moderate or heavy...|      37439|\n",
      "|          Light rain|      27715|\n",
      "|          Heavy snow|      26935|\n",
      "|       Moderate rain|      23823|\n",
      "|       Moderate snow|      17942|\n",
      "|          Light snow|      14674|\n",
      "|          Heavy rain|      14035|\n",
      "|Patchy moderate snow|       8916|\n",
      "|Torrential rain s...|       8528|\n",
      "|   Patchy light snow|       8240|\n",
      "|Moderate rain at ...|       7683|\n",
      "|   Patchy heavy snow|       7401|\n",
      "|   Patchy light rain|       5947|\n",
      "|Patchy light rain...|       3317|\n",
      "|Patchy snow possible|       3262|\n",
      "|Moderate or heavy...|       2453|\n",
      "|Moderate or heavy...|       2275|\n",
      "| Heavy rain at times|       1736|\n",
      "+--------------------+-----------+\n",
      "only showing top 20 rows\n",
      "\n"
     ]
    }
   ],
   "source": [
    "filtered_truck = truck_schedule_data1.filter((col(\"delay\") == 1))\n",
    "# Join truck_schedule_data with weather_data based on date and hour\n",
    "joined_data_schedule = filtered_truck.join(\n",
    "    weather_data1,\n",
    "    (filtered_truck[\"date_str\"] == weather_data1[\"date\"]) & (col(\"dep_hour\") == (weather_data1[\"hour\"]/100)),\n",
    "    \"left\"\n",
    ")\n",
    "\n",
    "# Calculate average delay under different weather conditions\n",
    "delay_by_weather = joined_data_schedule.groupBy(\"description\").agg(count(\"delay\").alias(\"Total_delay\"))\\\n",
    ".orderBy(col(\"Total_delay\").desc())\n",
    "# Define the filter condition using regex\n",
    "\n",
    "Total_delay_weather = delay_by_weather.filter(col(\"description\").rlike(\".*snow.*\") | col(\"description\").rlike(\".*rain.*\"))\n",
    "Total_delay_weather.show()"
   ]
  },
  {
   "cell_type": "code",
   "execution_count": 106,
   "id": "dbde24ea",
   "metadata": {},
   "outputs": [
    {
     "name": "stdout",
     "output_type": "stream",
     "text": [
      "+--------------------+-----------------------+\n",
      "|            route_id|avg_accidents_per_route|\n",
      "+--------------------+-----------------------+\n",
      "|Alabama_New_Mexic...|   0.057534246575342465|\n",
      "|Alabama_Minnesota...|   0.056678082191780825|\n",
      "|Alabama_Washingto...|    0.05662100456621005|\n",
      "|Alabama_Louisiana...|    0.05650684931506849|\n",
      "|Alabama_Dakota_56716|    0.05644977168949772|\n",
      "|Alabama_Montana_4...|    0.05627853881278539|\n",
      "|Alabama_Californi...|    0.05593607305936073|\n",
      "| Alabama_Alaska_5878|    0.05593607305936073|\n",
      "|Alabama_Hawaiian_...|    0.05593607305936073|\n",
      "|Alabama_Virginia_...|     0.0557648401826484|\n",
      "|Alabama_Carolina_...|    0.05565068493150685|\n",
      "|Alabama_New_Hamps...|   0.055365296803652965|\n",
      "|Alabama_Utah_Pur_...|    0.05485159817351598|\n",
      "|Alabama_Maryland_...|     0.0547945205479452|\n",
      "|Alabama_Indianapo...|    0.05468036529680365|\n",
      "|Alabama_Floridabl...|    0.05468036529680365|\n",
      "|Alabama_West_Virg...|   0.054509132420091325|\n",
      "|Alabama_Maine-Sor...|   0.054452054794520546|\n",
      "|Alabama_Delaware_785|   0.054394977168949775|\n",
      "|Alabama_Tennessee...|   0.054394977168949775|\n",
      "+--------------------+-----------------------+\n",
      "only showing top 20 rows\n",
      "\n"
     ]
    }
   ],
   "source": [
    "# Show the top routes with the highest accident rates\n",
    "\n",
    "\n",
    "# Group by route_id and calculate the average number of accidents per route\n",
    "route_accident_stats = traffic_data1.groupBy(\"route_id\").agg(avg(\"accident\").alias(\"avg_accidents_per_route\"))\n",
    "\n",
    "# Sort routes by average accidents in descending order\n",
    "top_accident_routes = route_accident_stats.orderBy(col(\"avg_accidents_per_route\").desc())\n",
    "\n",
    "\n",
    "top_accident_routes.show()"
   ]
  },
  {
   "cell_type": "code",
   "execution_count": 121,
   "id": "41599c80",
   "metadata": {},
   "outputs": [
    {
     "name": "stdout",
     "output_type": "stream",
     "text": [
      "+-------+--------------------+-----------+\n",
      "| origin|         destination|Total_delay|\n",
      "+-------+--------------------+-----------+\n",
      "|Alabama|   Mississippi State|        133|\n",
      "|Alabama|       Nebraska City|        121|\n",
      "|Alabama|   South Dakota Park|        117|\n",
      "|Alabama|       Arkansas City|        109|\n",
      "|Alabama|         Kansas City|        102|\n",
      "|Alabama|       Oklahoma City|         99|\n",
      "|Alabama|              Alaska|         59|\n",
      "|Alabama|         Idaho Falls|         59|\n",
      "|Alabama|          Texas City|         58|\n",
      "| Alaska|Pennsylvania Furnace|         51|\n",
      "|Alabama|    Hawaiian Gardens|         50|\n",
      "|Alabama|             Arizona|         48|\n",
      "|Alabama|     California City|         45|\n",
      "|Alabama|    Colorado Springs|         42|\n",
      "|Alabama|         Oregon City|         42|\n",
      "|Alabama|       Missouri City|         41|\n",
      "|Alabama|       Floridablanca|         33|\n",
      "| Alaska|             Alabama|         33|\n",
      "| Alaska|            Delaware|         28|\n",
      "|Alabama|             Montana|         25|\n",
      "+-------+--------------------+-----------+\n",
      "only showing top 20 rows\n",
      "\n"
     ]
    }
   ],
   "source": [
    "# create the date_str column and chance the format value\n",
    "traffic_data1 = traffic_data1.withColumn(\"date_str\", date_format(to_date(col(\"date\"), \"dd-MM-yyyy\"), \"yyyy-MM-dd\"))\n",
    "\n",
    "# filter the data by delay and accident\n",
    "acident_data = traffic_data1.filter(col(\"accident\") == 1)\n",
    "delay_data = truck_schedule_data1.filter(col(\"delay\") == 1)\n",
    "\n",
    "# Join truck_schedule_data with weather_data based on date and hour\n",
    "joined_data_traffic = delay_data.join(\n",
    "    acident_data,\n",
    "    (delay_data[\"route_id\"] == acident_data[\"route_id\"]) & (delay_data[\"date_str\"] == acident_data[\"date_str\"]),\"left\")\n",
    "\n",
    "# \n",
    "filter_data_traffic = joined_data_traffic.filter(col(\"accident\").isNull() == False)\n",
    "\n",
    "# Calculate average delay under different weather conditions\n",
    "delay_by_traffic = filter_data_traffic.groupBy(\"origin\",\"destination\").agg(count(\"*\").alias(\"Total_delay\")).\\\n",
    "orderBy(col(\"Total_delay\").desc())\n",
    "\n",
    "delay_by_traffic.show()"
   ]
  },
  {
   "cell_type": "code",
   "execution_count": 122,
   "id": "cf948689",
   "metadata": {},
   "outputs": [
    {
     "name": "stdout",
     "output_type": "stream",
     "text": [
      "+----------+-----+\n",
      "|prediction|count|\n",
      "+----------+-----+\n",
      "|         1|    1|\n",
      "|         3|    5|\n",
      "|         4|    3|\n",
      "|         2|    6|\n",
      "|         0|   34|\n",
      "+----------+-----+\n",
      "\n"
     ]
    }
   ],
   "source": [
    "#Perform cluster analysis on city details\n",
    "\n",
    "# Assemble latitude and longitude into a feature vector\n",
    "feature_cols = ['lat', 'lon']\n",
    "assembler = VectorAssembler(inputCols=feature_cols, outputCol=\"features\")\n",
    "city_data = assembler.transform(city_details)\n",
    "\n",
    "\n",
    "# Choose the number of clusters (K)\n",
    "k = 5\n",
    "\n",
    "# Fit K-means clustering model\n",
    "kmeans = KMeans().setK(k).setSeed(1)\n",
    "model = kmeans.fit(city_data)\n",
    "\n",
    "# Get cluster assignments for each city\n",
    "clustered_data = model.transform(city_data)\n",
    "\n",
    "# Perform cluster analysis on 'cluster' column\n",
    "clustered_data.groupBy(\"prediction\").count().show()"
   ]
  },
  {
   "cell_type": "code",
   "execution_count": 140,
   "id": "ea9769f6",
   "metadata": {},
   "outputs": [
    {
     "name": "stdout",
     "output_type": "stream",
     "text": [
      "+--------------------+-------+------+--------+----------------+-----------------+----------+\n",
      "|                 _id|city_id|   lat|     lon|            name|         features|prediction|\n",
      "+--------------------+-------+------+--------+----------------+-----------------+----------+\n",
      "|{65df3f2773bdaf54...|      1|42.998| -78.185|         Alabama| [42.998,-78.185]|         0|\n",
      "|{65df3f2773bdaf54...|      2|16.559| -93.973|          Alaska| [16.559,-93.973]|         4|\n",
      "|{65df3f2773bdaf54...|      3|15.633| -87.317|         Arizona| [15.633,-87.317]|         4|\n",
      "|{65df3f2773bdaf54...|      4|37.062| -97.038|   Arkansas City| [37.062,-97.038]|         0|\n",
      "|{65df3f2773bdaf54...|      5|35.126|-117.985| California City|[35.126,-117.985]|         3|\n",
      "|{65df3f2773bdaf54...|      6|38.834|-104.821|Colorado Springs|[38.834,-104.821]|         3|\n",
      "|{65df3f2773bdaf54...|      7|41.053| -73.539|        Stamford| [41.053,-73.539]|         0|\n",
      "|{65df3f2773bdaf54...|      8|40.299| -83.068|        Delaware| [40.299,-83.068]|         0|\n",
      "|{65df3f2773bdaf54...|      9| 7.065|  -73.09|   Floridablanca|   [7.065,-73.09]|         4|\n",
      "|{65df3f2773bdaf54...|     10|41.725|  44.791|         Tbilisi|  [41.725,44.791]|         2|\n",
      "+--------------------+-------+------+--------+----------------+-----------------+----------+\n",
      "only showing top 10 rows\n",
      "\n"
     ]
    }
   ],
   "source": [
    "clustered_data.show(10)"
   ]
  },
  {
   "cell_type": "code",
   "execution_count": 124,
   "id": "fd0fb13d",
   "metadata": {},
   "outputs": [
    {
     "name": "stderr",
     "output_type": "stream",
     "text": [
      "C:\\ProgramData\\anaconda3\\Lib\\site-packages\\pyspark\\sql\\pandas\\utils.py:37: DeprecationWarning: distutils Version classes are deprecated. Use packaging.version instead.\n",
      "  if LooseVersion(pandas.__version__) < LooseVersion(minimum_pandas_version):\n",
      "C:\\ProgramData\\anaconda3\\Lib\\site-packages\\pyspark\\sql\\pandas\\utils.py:37: DeprecationWarning: distutils Version classes are deprecated. Use packaging.version instead.\n",
      "  if LooseVersion(pandas.__version__) < LooseVersion(minimum_pandas_version):\n",
      "C:\\ProgramData\\anaconda3\\Lib\\site-packages\\pyspark\\sql\\pandas\\conversion.py:485: DeprecationWarning: is_datetime64tz_dtype is deprecated and will be removed in a future version. Check `isinstance(dtype, pd.DatetimeTZDtype)` instead.\n",
      "  if should_localize and is_datetime64tz_dtype(s.dtype) and s.dt.tz is not None:\n"
     ]
    },
    {
     "name": "stdout",
     "output_type": "stream",
     "text": [
      "+---------------+-------+--------------------+\n",
      "|      city_name|city_id|            geometry|\n",
      "+---------------+-------+--------------------+\n",
      "|        Alabama|      1|POINT (-78.185 42...|\n",
      "|         Alaska|      2|POINT (-93.973 16...|\n",
      "|        Arizona|      3|POINT (-87.317 15...|\n",
      "|  Arkansas City|      4|POINT (-97.038 37...|\n",
      "|California City|      5|POINT (-117.985 3...|\n",
      "+---------------+-------+--------------------+\n",
      "only showing top 5 rows\n",
      "\n",
      "Delivery Coordinate 1: (40.7128, -74.006) -> Nearest Center: New York\n",
      "Delivery Coordinate 2: (34.0522, -118.2437) -> Nearest Center: Hawaiian Gardens\n",
      "Delivery Coordinate 3: (51.5074, -0.1278) -> Nearest Center: Montana\n"
     ]
    }
   ],
   "source": [
    "#find nearest delivery center to given Coordinates\n",
    "\n",
    "pandas_df = city_details.toPandas()\n",
    "\n",
    "# Create a new column 'geom' with WKT representations\n",
    "pandas_df['geom'] = pandas_df.apply(lambda row: Point(row['lon'], row['lat']).wkt, axis=1)\n",
    "\n",
    "city_details_spark_df = spark.createDataFrame(pandas_df)\n",
    "\n",
    "transformed_city_details = city_details_spark_df.selectExpr(\"name as city_name\", \"city_id\", \"st_geomFromWKT(geom) as geometry\")\n",
    "\n",
    "transformed_city_details.show(5)\n",
    "\n",
    "# Sample delivery coordinates (latitude, longitude)\n",
    "delivery_coordinates = [(40.7128, -74.0060), (34.0522, -118.2437), (51.5074, -0.1278)]\n",
    "\n",
    "# Load the delivery coordinates into a SpatialRDD\n",
    "delivery_rdd = Adapter.toSpatialRdd(transformed_city_details, \"geometry\")\n",
    "\n",
    "# Create a spatial index on the delivery_rdd for efficient KNN queries\n",
    "delivery_rdd.buildIndex(IndexType.RTREE, False)\n",
    "\n",
    "# Calculate distances using Apache Sedona (GeoSpark)\n",
    "nearest_centers = []\n",
    "\n",
    "for i, coord in enumerate(delivery_coordinates):\n",
    "    # Create a Point for the current delivery coordinate\n",
    "    delivery_point = Point(coord[1], coord[0])\n",
    "    \n",
    "    \n",
    "    # Perform a KNN query to find the nearest center\n",
    "    knn_result = KNNQuery.SpatialKnnQuery(delivery_rdd, delivery_point, 1, True)\n",
    "    c_id=int(re.findall(r'\\d+', knn_result[0].userData)[0])\n",
    "    \n",
    "    # Get the nearest center name\n",
    "    nearest_center = city_details.filter(city_details[\"city_id\"] == c_id).select(\"name\").first()[0]\n",
    "\n",
    "    nearest_centers.append(nearest_center)\n",
    "\n",
    "# Print the nearest centers for each delivery coordinate\n",
    "for i, coord in enumerate(delivery_coordinates):\n",
    "    print(f\"Delivery Coordinate {i + 1}: {coord} -> Nearest Center: {nearest_centers[i]}\")"
   ]
  }
 ],
 "metadata": {
  "kernelspec": {
   "display_name": "Python 3 (ipykernel)",
   "language": "python",
   "name": "python3"
  },
  "language_info": {
   "codemirror_mode": {
    "name": "ipython",
    "version": 3
   },
   "file_extension": ".py",
   "mimetype": "text/x-python",
   "name": "python",
   "nbconvert_exporter": "python",
   "pygments_lexer": "ipython3",
   "version": "3.11.7"
  }
 },
 "nbformat": 4,
 "nbformat_minor": 5
}
